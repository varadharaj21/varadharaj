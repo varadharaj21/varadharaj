{
  "nbformat": 4,
  "nbformat_minor": 0,
  "metadata": {
    "colab": {
      "provenance": [],
      "collapsed_sections": []
    },
    "kernelspec": {
      "name": "python3",
      "display_name": "Python 3"
    },
    "language_info": {
      "name": "python"
    }
  },
  "cells": [
    {
      "cell_type": "code",
      "execution_count": null,
      "metadata": {
        "id": "_JvOfZxlqOja"
      },
      "outputs": [],
      "source": [
        "import numpy as np\n",
        "import pandas as pd\n",
        "import matplotlib.pyplot as plt\n",
        "import seaborn as sns"
      ]
    },
    {
      "cell_type": "markdown",
      "source": [
        "1. Download the dataset:"
      ],
      "metadata": {
        "id": "VwCTwd3HquhE"
      }
    },
    {
      "cell_type": "markdown",
      "source": [
        "2. Load the dataset into the tool."
      ],
      "metadata": {
        "id": "TrgBISvsq3ut"
      }
    },
    {
      "cell_type": "code",
      "source": [
        "data=pd.read_csv(\"/content/Mall_Customers.csv\")"
      ],
      "metadata": {
        "id": "7Aut7SBTq0Dp"
      },
      "execution_count": null,
      "outputs": []
    },
    {
      "cell_type": "markdown",
      "source": [
        "3. Perform Below Visualizations.\n",
        "∙ Univariate Analysis\n",
        "∙ Bi-Variate Analysis\n",
        "∙ Multi-Variate Analysis"
      ],
      "metadata": {
        "id": "Qd3EXgvIsDU5"
      }
    },
    {
      "cell_type": "code",
      "source": [
        "data.head()"
      ],
      "metadata": {
        "colab": {
          "base_uri": "https://localhost:8080/",
          "height": 206
        },
        "id": "z-cEk4h8sF1Z",
        "outputId": "577f168c-73d4-4c4a-e71e-500e3ab7267d"
      },
      "execution_count": null,
      "outputs": [
        {
          "output_type": "execute_result",
          "data": {
            "text/plain": [
              "   CustomerID  Gender  Age  Annual Income (k$)  Spending Score (1-100)\n",
              "0           1    Male   19                  15                      39\n",
              "1           2    Male   21                  15                      81\n",
              "2           3  Female   20                  16                       6\n",
              "3           4  Female   23                  16                      77\n",
              "4           5  Female   31                  17                      40"
            ],
            "text/html": [
              "\n",
              "  <div id=\"df-39df8aff-acdd-4811-baab-d760686cf8c6\">\n",
              "    <div class=\"colab-df-container\">\n",
              "      <div>\n",
              "<style scoped>\n",
              "    .dataframe tbody tr th:only-of-type {\n",
              "        vertical-align: middle;\n",
              "    }\n",
              "\n",
              "    .dataframe tbody tr th {\n",
              "        vertical-align: top;\n",
              "    }\n",
              "\n",
              "    .dataframe thead th {\n",
              "        text-align: right;\n",
              "    }\n",
              "</style>\n",
              "<table border=\"1\" class=\"dataframe\">\n",
              "  <thead>\n",
              "    <tr style=\"text-align: right;\">\n",
              "      <th></th>\n",
              "      <th>CustomerID</th>\n",
              "      <th>Gender</th>\n",
              "      <th>Age</th>\n",
              "      <th>Annual Income (k$)</th>\n",
              "      <th>Spending Score (1-100)</th>\n",
              "    </tr>\n",
              "  </thead>\n",
              "  <tbody>\n",
              "    <tr>\n",
              "      <th>0</th>\n",
              "      <td>1</td>\n",
              "      <td>Male</td>\n",
              "      <td>19</td>\n",
              "      <td>15</td>\n",
              "      <td>39</td>\n",
              "    </tr>\n",
              "    <tr>\n",
              "      <th>1</th>\n",
              "      <td>2</td>\n",
              "      <td>Male</td>\n",
              "      <td>21</td>\n",
              "      <td>15</td>\n",
              "      <td>81</td>\n",
              "    </tr>\n",
              "    <tr>\n",
              "      <th>2</th>\n",
              "      <td>3</td>\n",
              "      <td>Female</td>\n",
              "      <td>20</td>\n",
              "      <td>16</td>\n",
              "      <td>6</td>\n",
              "    </tr>\n",
              "    <tr>\n",
              "      <th>3</th>\n",
              "      <td>4</td>\n",
              "      <td>Female</td>\n",
              "      <td>23</td>\n",
              "      <td>16</td>\n",
              "      <td>77</td>\n",
              "    </tr>\n",
              "    <tr>\n",
              "      <th>4</th>\n",
              "      <td>5</td>\n",
              "      <td>Female</td>\n",
              "      <td>31</td>\n",
              "      <td>17</td>\n",
              "      <td>40</td>\n",
              "    </tr>\n",
              "  </tbody>\n",
              "</table>\n",
              "</div>\n",
              "      <button class=\"colab-df-convert\" onclick=\"convertToInteractive('df-39df8aff-acdd-4811-baab-d760686cf8c6')\"\n",
              "              title=\"Convert this dataframe to an interactive table.\"\n",
              "              style=\"display:none;\">\n",
              "        \n",
              "  <svg xmlns=\"http://www.w3.org/2000/svg\" height=\"24px\"viewBox=\"0 0 24 24\"\n",
              "       width=\"24px\">\n",
              "    <path d=\"M0 0h24v24H0V0z\" fill=\"none\"/>\n",
              "    <path d=\"M18.56 5.44l.94 2.06.94-2.06 2.06-.94-2.06-.94-.94-2.06-.94 2.06-2.06.94zm-11 1L8.5 8.5l.94-2.06 2.06-.94-2.06-.94L8.5 2.5l-.94 2.06-2.06.94zm10 10l.94 2.06.94-2.06 2.06-.94-2.06-.94-.94-2.06-.94 2.06-2.06.94z\"/><path d=\"M17.41 7.96l-1.37-1.37c-.4-.4-.92-.59-1.43-.59-.52 0-1.04.2-1.43.59L10.3 9.45l-7.72 7.72c-.78.78-.78 2.05 0 2.83L4 21.41c.39.39.9.59 1.41.59.51 0 1.02-.2 1.41-.59l7.78-7.78 2.81-2.81c.8-.78.8-2.07 0-2.86zM5.41 20L4 18.59l7.72-7.72 1.47 1.35L5.41 20z\"/>\n",
              "  </svg>\n",
              "      </button>\n",
              "      \n",
              "  <style>\n",
              "    .colab-df-container {\n",
              "      display:flex;\n",
              "      flex-wrap:wrap;\n",
              "      gap: 12px;\n",
              "    }\n",
              "\n",
              "    .colab-df-convert {\n",
              "      background-color: #E8F0FE;\n",
              "      border: none;\n",
              "      border-radius: 50%;\n",
              "      cursor: pointer;\n",
              "      display: none;\n",
              "      fill: #1967D2;\n",
              "      height: 32px;\n",
              "      padding: 0 0 0 0;\n",
              "      width: 32px;\n",
              "    }\n",
              "\n",
              "    .colab-df-convert:hover {\n",
              "      background-color: #E2EBFA;\n",
              "      box-shadow: 0px 1px 2px rgba(60, 64, 67, 0.3), 0px 1px 3px 1px rgba(60, 64, 67, 0.15);\n",
              "      fill: #174EA6;\n",
              "    }\n",
              "\n",
              "    [theme=dark] .colab-df-convert {\n",
              "      background-color: #3B4455;\n",
              "      fill: #D2E3FC;\n",
              "    }\n",
              "\n",
              "    [theme=dark] .colab-df-convert:hover {\n",
              "      background-color: #434B5C;\n",
              "      box-shadow: 0px 1px 3px 1px rgba(0, 0, 0, 0.15);\n",
              "      filter: drop-shadow(0px 1px 2px rgba(0, 0, 0, 0.3));\n",
              "      fill: #FFFFFF;\n",
              "    }\n",
              "  </style>\n",
              "\n",
              "      <script>\n",
              "        const buttonEl =\n",
              "          document.querySelector('#df-39df8aff-acdd-4811-baab-d760686cf8c6 button.colab-df-convert');\n",
              "        buttonEl.style.display =\n",
              "          google.colab.kernel.accessAllowed ? 'block' : 'none';\n",
              "\n",
              "        async function convertToInteractive(key) {\n",
              "          const element = document.querySelector('#df-39df8aff-acdd-4811-baab-d760686cf8c6');\n",
              "          const dataTable =\n",
              "            await google.colab.kernel.invokeFunction('convertToInteractive',\n",
              "                                                     [key], {});\n",
              "          if (!dataTable) return;\n",
              "\n",
              "          const docLinkHtml = 'Like what you see? Visit the ' +\n",
              "            '<a target=\"_blank\" href=https://colab.research.google.com/notebooks/data_table.ipynb>data table notebook</a>'\n",
              "            + ' to learn more about interactive tables.';\n",
              "          element.innerHTML = '';\n",
              "          dataTable['output_type'] = 'display_data';\n",
              "          await google.colab.output.renderOutput(dataTable, element);\n",
              "          const docLink = document.createElement('div');\n",
              "          docLink.innerHTML = docLinkHtml;\n",
              "          element.appendChild(docLink);\n",
              "        }\n",
              "      </script>\n",
              "    </div>\n",
              "  </div>\n",
              "  "
            ]
          },
          "metadata": {},
          "execution_count": 3
        }
      ]
    },
    {
      "cell_type": "code",
      "source": [
        "data.rename(columns={\"CustomerID\":\"customer_id\",\"Gender\":\"gender\",\"Age\":\"age\",\"Annual Income (k$)\":\"annual_income\",\n",
        "                     \"Spending Score (1-100)\":\"spending_scores\"},inplace=True)"
      ],
      "metadata": {
        "id": "tUtdLFR0sODF"
      },
      "execution_count": null,
      "outputs": []
    },
    {
      "cell_type": "code",
      "source": [
        "temp = pd.concat([data['age'], data['gender']], axis=1)\n",
        "\n",
        "f, ax = plt.subplots(figsize=(10,10))\n",
        "fig = sns.boxenplot(x='gender', y=\"age\", data=data)\n",
        "fig.axis(ymin=0, ymax=100);\n"
      ],
      "metadata": {
        "colab": {
          "base_uri": "https://localhost:8080/",
          "height": 610
        },
        "id": "zEjZbRHMsVbt",
        "outputId": "cfb2fe9e-e1c0-4e90-e9ad-80d2a9615e82"
      },
      "execution_count": null,
      "outputs": [
        {
          "output_type": "display_data",
          "data": {
            "text/plain": [
              "<Figure size 720x720 with 1 Axes>"
            ],
            "image/png": "[encoded data removed]"
          },
          "metadata": {
            "needs_background": "light"
          }
        }
      ]
    },
    {
      "cell_type": "markdown",
      "source": [
        "ANALYSIS\n",
        "\n",
        "There is no difference in age of rings for male and female (18-70)."
      ],
      "metadata": {
        "id": "kjfuTXQdsia4"
      }
    },
    {
      "cell_type": "markdown",
      "source": [
        "**Count plot**"
      ],
      "metadata": {
        "id": "HEM0WCAmskoZ"
      }
    },
    {
      "cell_type": "code",
      "source": [
        "sns.boxplot(x=data['gender'],y=data['spending_scores'])"
      ],
      "metadata": {
        "colab": {
          "base_uri": "https://localhost:8080/",
          "height": 296
        },
        "id": "xImUEJXNssP5",
        "outputId": "fcc1f58d-9c24-4d20-d7d3-180f949e8ff9"
      },
      "execution_count": null,
      "outputs": [
        {
          "output_type": "execute_result",
          "data": {
            "text/plain": [
              "<matplotlib.axes._subplots.AxesSubplot at 0x7fe743f1b710>"
            ]
          },
          "metadata": {},
          "execution_count": 6
        },
        {
          "output_type": "display_data",
          "data": {
            "text/plain": [
              "<Figure size 432x288 with 1 Axes>"
            ],
            "image/png": "[encoded data removed]"
          },
          "metadata": {
            "needs_background": "light"
          }
        }
      ]
    },
    {
      "cell_type": "code",
      "source": [
        "sns.boxplot(x=data['gender'],y=data['annual_income'])"
      ],
      "metadata": {
        "colab": {
          "base_uri": "https://localhost:8080/",
          "height": 296
        },
        "id": "fckmY_Yosy89",
        "outputId": "00ba671e-6ffc-43aa-989d-6f64a83f4044"
      },
      "execution_count": null,
      "outputs": [
        {
          "output_type": "execute_result",
          "data": {
            "text/plain": [
              "<matplotlib.axes._subplots.AxesSubplot at 0x7fe743f23250>"
            ]
          },
          "metadata": {},
          "execution_count": 7
        },
        {
          "output_type": "display_data",
          "data": {
            "text/plain": [
              "<Figure size 432x288 with 1 Axes>"
            ],
            "image/png": "[encoded data removed]"
          },
          "metadata": {
            "needs_background": "light"
          }
        }
      ]
    },
    {
      "cell_type": "markdown",
      "source": [
        "**Coorelation Plot**"
      ],
      "metadata": {
        "id": "abbrQa56s8Va"
      }
    },
    {
      "cell_type": "code",
      "source": [
        "corr=data.corr()\n",
        "plt.figure(figsize=(8,8))\n",
        "sn=sns.heatmap(corr,vmin=-1,center=0, annot = True, cmap = 'mako')"
      ],
      "metadata": {
        "colab": {
          "base_uri": "https://localhost:8080/",
          "height": 488
        },
        "id": "NAwW4J31s-WV",
        "outputId": "0eadfa9c-1461-4123-d209-999cb8e13668"
      },
      "execution_count": null,
      "outputs": [
        {
          "output_type": "display_data",
          "data": {
            "text/plain": [
              "<Figure size 576x576 with 2 Axes>"
            ],
            "image/png": "[encoded data removed]"
          },
          "metadata": {
            "needs_background": "light"
          }
        }
      ]
    },
    {
      "cell_type": "code",
      "source": [
        "sns.pairplot(data)"
      ],
      "metadata": {
        "colab": {
          "base_uri": "https://localhost:8080/",
          "height": 743
        },
        "id": "q3U_5HX7tGB6",
        "outputId": "3f1e27e0-9c06-4e99-ac0d-ecb4b1c4e2bb"
      },
      "execution_count": null,
      "outputs": [
        {
          "output_type": "execute_result",
          "data": {
            "text/plain": [
              "<seaborn.axisgrid.PairGrid at 0x7fe7438d8310>"
            ]
          },
          "metadata": {},
          "execution_count": 9
        },
        {
          "output_type": "display_data",
          "data": {
            "text/plain": [
              "<Figure size 720x720 with 20 Axes>"
            ],
            "image/png": "[encoded data removed]"
          },
          "metadata": {
            "needs_background": "light"
          }
        }
      ]
    },
    {
      "cell_type": "markdown",
      "source": [
        "**4. Perform descriptive statistics on the dataset.**"
      ],
      "metadata": {
        "id": "n2KoX4nItNDu"
      }
    },
    {
      "cell_type": "code",
      "source": [
        "data.head(10)"
      ],
      "metadata": {
        "colab": {
          "base_uri": "https://localhost:8080/",
          "height": 363
        },
        "id": "qir0f3FUtQJ8",
        "outputId": "f6ddeae1-9f47-43b6-bbc3-25fba6c024aa"
      },
      "execution_count": null,
      "outputs": [
        {
          "output_type": "execute_result",
          "data": {
            "text/plain": [
              "   customer_id  gender  age  annual_income  spending_scores\n",
              "0            1    Male   19             15               39\n",
              "1            2    Male   21             15               81\n",
              "2            3  Female   20             16                6\n",
              "3            4  Female   23             16               77\n",
              "4            5  Female   31             17               40\n",
              "5            6  Female   22             17               76\n",
              "6            7  Female   35             18                6\n",
              "7            8  Female   23             18               94\n",
              "8            9    Male   64             19                3\n",
              "9           10  Female   30             19               72"
            ],
            "text/html": [
              "\n",
              "  <div id=\"df-e9437291-21cd-4430-953d-0ffce31abc47\">\n",
              "    <div class=\"colab-df-container\">\n",
              "      <div>\n",
              "<style scoped>\n",
              "    .dataframe tbody tr th:only-of-type {\n",
              "        vertical-align: middle;\n",
              "    }\n",
              "\n",
              "    .dataframe tbody tr th {\n",
              "        vertical-align: top;\n",
              "    }\n",
              "\n",
              "    .dataframe thead th {\n",
              "        text-align: right;\n",
              "    }\n",
              "</style>\n",
              "<table border=\"1\" class=\"dataframe\">\n",
              "  <thead>\n",
              "    <tr style=\"text-align: right;\">\n",
              "      <th></th>\n",
              "      <th>customer_id</th>\n",
              "      <th>gender</th>\n",
              "      <th>age</th>\n",
              "      <th>annual_income</th>\n",
              "      <th>spending_scores</th>\n",
              "    </tr>\n",
              "  </thead>\n",
              "  <tbody>\n",
              "    <tr>\n",
              "      <th>0</th>\n",
              "      <td>1</td>\n",
              "      <td>Male</td>\n",
              "      <td>19</td>\n",
              "      <td>15</td>\n",
              "      <td>39</td>\n",
              "    </tr>\n",
              "    <tr>\n",
              "      <th>1</th>\n",
              "      <td>2</td>\n",
              "      <td>Male</td>\n",
              "      <td>21</td>\n",
              "      <td>15</td>\n",
              "      <td>81</td>\n",
              "    </tr>\n",
              "    <tr>\n",
              "      <th>2</th>\n",
              "      <td>3</td>\n",
              "      <td>Female</td>\n",
              "      <td>20</td>\n",
              "      <td>16</td>\n",
              "      <td>6</td>\n",
              "    </tr>\n",
              "    <tr>\n",
              "      <th>3</th>\n",
              "      <td>4</td>\n",
              "      <td>Female</td>\n",
              "      <td>23</td>\n",
              "      <td>16</td>\n",
              "      <td>77</td>\n",
              "    </tr>\n",
              "    <tr>\n",
              "      <th>4</th>\n",
              "      <td>5</td>\n",
              "      <td>Female</td>\n",
              "      <td>31</td>\n",
              "      <td>17</td>\n",
              "      <td>40</td>\n",
              "    </tr>\n",
              "    <tr>\n",
              "      <th>5</th>\n",
              "      <td>6</td>\n",
              "      <td>Female</td>\n",
              "      <td>22</td>\n",
              "      <td>17</td>\n",
              "      <td>76</td>\n",
              "    </tr>\n",
              "    <tr>\n",
              "      <th>6</th>\n",
              "      <td>7</td>\n",
              "      <td>Female</td>\n",
              "      <td>35</td>\n",
              "      <td>18</td>\n",
              "      <td>6</td>\n",
              "    </tr>\n",
              "    <tr>\n",
              "      <th>7</th>\n",
              "      <td>8</td>\n",
              "      <td>Female</td>\n",
              "      <td>23</td>\n",
              "      <td>18</td>\n",
              "      <td>94</td>\n",
              "    </tr>\n",
              "    <tr>\n",
              "      <th>8</th>\n",
              "      <td>9</td>\n",
              "      <td>Male</td>\n",
              "      <td>64</td>\n",
              "      <td>19</td>\n",
              "      <td>3</td>\n",
              "    </tr>\n",
              "    <tr>\n",
              "      <th>9</th>\n",
              "      <td>10</td>\n",
              "      <td>Female</td>\n",
              "      <td>30</td>\n",
              "      <td>19</td>\n",
              "      <td>72</td>\n",
              "    </tr>\n",
              "  </tbody>\n",
              "</table>\n",
              "</div>\n",
              "      <button class=\"colab-df-convert\" onclick=\"convertToInteractive('df-e9437291-21cd-4430-953d-0ffce31abc47')\"\n",
              "              title=\"Convert this dataframe to an interactive table.\"\n",
              "              style=\"display:none;\">\n",
              "        \n",
              "  <svg xmlns=\"http://www.w3.org/2000/svg\" height=\"24px\"viewBox=\"0 0 24 24\"\n",
              "       width=\"24px\">\n",
              "    <path d=\"M0 0h24v24H0V0z\" fill=\"none\"/>\n",
              "    <path d=\"M18.56 5.44l.94 2.06.94-2.06 2.06-.94-2.06-.94-.94-2.06-.94 2.06-2.06.94zm-11 1L8.5 8.5l.94-2.06 2.06-.94-2.06-.94L8.5 2.5l-.94 2.06-2.06.94zm10 10l.94 2.06.94-2.06 2.06-.94-2.06-.94-.94-2.06-.94 2.06-2.06.94z\"/><path d=\"M17.41 7.96l-1.37-1.37c-.4-.4-.92-.59-1.43-.59-.52 0-1.04.2-1.43.59L10.3 9.45l-7.72 7.72c-.78.78-.78 2.05 0 2.83L4 21.41c.39.39.9.59 1.41.59.51 0 1.02-.2 1.41-.59l7.78-7.78 2.81-2.81c.8-.78.8-2.07 0-2.86zM5.41 20L4 18.59l7.72-7.72 1.47 1.35L5.41 20z\"/>\n",
              "  </svg>\n",
              "      </button>\n",
              "      \n",
              "  <style>\n",
              "    .colab-df-container {\n",
              "      display:flex;\n",
              "      flex-wrap:wrap;\n",
              "      gap: 12px;\n",
              "    }\n",
              "\n",
              "    .colab-df-convert {\n",
              "      background-color: #E8F0FE;\n",
              "      border: none;\n",
              "      border-radius: 50%;\n",
              "      cursor: pointer;\n",
              "      display: none;\n",
              "      fill: #1967D2;\n",
              "      height: 32px;\n",
              "      padding: 0 0 0 0;\n",
              "      width: 32px;\n",
              "    }\n",
              "\n",
              "    .colab-df-convert:hover {\n",
              "      background-color: #E2EBFA;\n",
              "      box-shadow: 0px 1px 2px rgba(60, 64, 67, 0.3), 0px 1px 3px 1px rgba(60, 64, 67, 0.15);\n",
              "      fill: #174EA6;\n",
              "    }\n",
              "\n",
              "    [theme=dark] .colab-df-convert {\n",
              "      background-color: #3B4455;\n",
              "      fill: #D2E3FC;\n",
              "    }\n",
              "\n",
              "    [theme=dark] .colab-df-convert:hover {\n",
              "      background-color: #434B5C;\n",
              "      box-shadow: 0px 1px 3px 1px rgba(0, 0, 0, 0.15);\n",
              "      filter: drop-shadow(0px 1px 2px rgba(0, 0, 0, 0.3));\n",
              "      fill: #FFFFFF;\n",
              "    }\n",
              "  </style>\n",
              "\n",
              "      <script>\n",
              "        const buttonEl =\n",
              "          document.querySelector('#df-e9437291-21cd-4430-953d-0ffce31abc47 button.colab-df-convert');\n",
              "        buttonEl.style.display =\n",
              "          google.colab.kernel.accessAllowed ? 'block' : 'none';\n",
              "\n",
              "        async function convertToInteractive(key) {\n",
              "          const element = document.querySelector('#df-e9437291-21cd-4430-953d-0ffce31abc47');\n",
              "          const dataTable =\n",
              "            await google.colab.kernel.invokeFunction('convertToInteractive',\n",
              "                                                     [key], {});\n",
              "          if (!dataTable) return;\n",
              "\n",
              "          const docLinkHtml = 'Like what you see? Visit the ' +\n",
              "            '<a target=\"_blank\" href=https://colab.research.google.com/notebooks/data_table.ipynb>data table notebook</a>'\n",
              "            + ' to learn more about interactive tables.';\n",
              "          element.innerHTML = '';\n",
              "          dataTable['output_type'] = 'display_data';\n",
              "          await google.colab.output.renderOutput(dataTable, element);\n",
              "          const docLink = document.createElement('div');\n",
              "          docLink.innerHTML = docLinkHtml;\n",
              "          element.appendChild(docLink);\n",
              "        }\n",
              "      </script>\n",
              "    </div>\n",
              "  </div>\n",
              "  "
            ]
          },
          "metadata": {},
          "execution_count": 10
        }
      ]
    },
    {
      "cell_type": "code",
      "source": [
        "data.shape"
      ],
      "metadata": {
        "colab": {
          "base_uri": "https://localhost:8080/"
        },
        "id": "GGATO-mFtU_R",
        "outputId": "5aa085d9-73e1-4abc-d14c-74f3050e8d5f"
      },
      "execution_count": null,
      "outputs": [
        {
          "output_type": "execute_result",
          "data": {
            "text/plain": [
              "(200, 5)"
            ]
          },
          "metadata": {},
          "execution_count": 11
        }
      ]
    },
    {
      "cell_type": "code",
      "source": [
        "data.describe()"
      ],
      "metadata": {
        "colab": {
          "base_uri": "https://localhost:8080/",
          "height": 300
        },
        "id": "xqLuaWpXtaez",
        "outputId": "c43701ab-7af7-4057-8fc9-571e2d60d5a6"
      },
      "execution_count": null,
      "outputs": [
        {
          "output_type": "execute_result",
          "data": {
            "text/plain": [
              "       customer_id         age  annual_income  spending_scores\n",
              "count   200.000000  200.000000     200.000000       200.000000\n",
              "mean    100.500000   38.850000      60.560000        50.200000\n",
              "std      57.879185   13.969007      26.264721        25.823522\n",
              "min       1.000000   18.000000      15.000000         1.000000\n",
              "25%      50.750000   28.750000      41.500000        34.750000\n",
              "50%     100.500000   36.000000      61.500000        50.000000\n",
              "75%     150.250000   49.000000      78.000000        73.000000\n",
              "max     200.000000   70.000000     137.000000        99.000000"
            ],
            "text/html": [
              "\n",
              "  <div id=\"df-fa73f8a4-0cbf-4099-93bb-ae3b9f56c455\">\n",
              "    <div class=\"colab-df-container\">\n",
              "      <div>\n",
              "<style scoped>\n",
              "    .dataframe tbody tr th:only-of-type {\n",
              "        vertical-align: middle;\n",
              "    }\n",
              "\n",
              "    .dataframe tbody tr th {\n",
              "        vertical-align: top;\n",
              "    }\n",
              "\n",
              "    .dataframe thead th {\n",
              "        text-align: right;\n",
              "    }\n",
              "</style>\n",
              "<table border=\"1\" class=\"dataframe\">\n",
              "  <thead>\n",
              "    <tr style=\"text-align: right;\">\n",
              "      <th></th>\n",
              "      <th>customer_id</th>\n",
              "      <th>age</th>\n",
              "      <th>annual_income</th>\n",
              "      <th>spending_scores</th>\n",
              "    </tr>\n",
              "  </thead>\n",
              "  <tbody>\n",
              "    <tr>\n",
              "      <th>count</th>\n",
              "      <td>200.000000</td>\n",
              "      <td>200.000000</td>\n",
              "      <td>200.000000</td>\n",
              "      <td>200.000000</td>\n",
              "    </tr>\n",
              "    <tr>\n",
              "      <th>mean</th>\n",
              "      <td>100.500000</td>\n",
              "      <td>38.850000</td>\n",
              "      <td>60.560000</td>\n",
              "      <td>50.200000</td>\n",
              "    </tr>\n",
              "    <tr>\n",
              "      <th>std</th>\n",
              "      <td>57.879185</td>\n",
              "      <td>13.969007</td>\n",
              "      <td>26.264721</td>\n",
              "      <td>25.823522</td>\n",
              "    </tr>\n",
              "    <tr>\n",
              "      <th>min</th>\n",
              "      <td>1.000000</td>\n",
              "      <td>18.000000</td>\n",
              "      <td>15.000000</td>\n",
              "      <td>1.000000</td>\n",
              "    </tr>\n",
              "    <tr>\n",
              "      <th>25%</th>\n",
              "      <td>50.750000</td>\n",
              "      <td>28.750000</td>\n",
              "      <td>41.500000</td>\n",
              "      <td>34.750000</td>\n",
              "    </tr>\n",
              "    <tr>\n",
              "      <th>50%</th>\n",
              "      <td>100.500000</td>\n",
              "      <td>36.000000</td>\n",
              "      <td>61.500000</td>\n",
              "      <td>50.000000</td>\n",
              "    </tr>\n",
              "    <tr>\n",
              "      <th>75%</th>\n",
              "      <td>150.250000</td>\n",
              "      <td>49.000000</td>\n",
              "      <td>78.000000</td>\n",
              "      <td>73.000000</td>\n",
              "    </tr>\n",
              "    <tr>\n",
              "      <th>max</th>\n",
              "      <td>200.000000</td>\n",
              "      <td>70.000000</td>\n",
              "      <td>137.000000</td>\n",
              "      <td>99.000000</td>\n",
              "    </tr>\n",
              "  </tbody>\n",
              "</table>\n",
              "</div>\n",
              "      <button class=\"colab-df-convert\" onclick=\"convertToInteractive('df-fa73f8a4-0cbf-4099-93bb-ae3b9f56c455')\"\n",
              "              title=\"Convert this dataframe to an interactive table.\"\n",
              "              style=\"display:none;\">\n",
              "        \n",
              "  <svg xmlns=\"http://www.w3.org/2000/svg\" height=\"24px\"viewBox=\"0 0 24 24\"\n",
              "       width=\"24px\">\n",
              "    <path d=\"M0 0h24v24H0V0z\" fill=\"none\"/>\n",
              "    <path d=\"M18.56 5.44l.94 2.06.94-2.06 2.06-.94-2.06-.94-.94-2.06-.94 2.06-2.06.94zm-11 1L8.5 8.5l.94-2.06 2.06-.94-2.06-.94L8.5 2.5l-.94 2.06-2.06.94zm10 10l.94 2.06.94-2.06 2.06-.94-2.06-.94-.94-2.06-.94 2.06-2.06.94z\"/><path d=\"M17.41 7.96l-1.37-1.37c-.4-.4-.92-.59-1.43-.59-.52 0-1.04.2-1.43.59L10.3 9.45l-7.72 7.72c-.78.78-.78 2.05 0 2.83L4 21.41c.39.39.9.59 1.41.59.51 0 1.02-.2 1.41-.59l7.78-7.78 2.81-2.81c.8-.78.8-2.07 0-2.86zM5.41 20L4 18.59l7.72-7.72 1.47 1.35L5.41 20z\"/>\n",
              "  </svg>\n",
              "      </button>\n",
              "      \n",
              "  <style>\n",
              "    .colab-df-container {\n",
              "      display:flex;\n",
              "      flex-wrap:wrap;\n",
              "      gap: 12px;\n",
              "    }\n",
              "\n",
              "    .colab-df-convert {\n",
              "      background-color: #E8F0FE;\n",
              "      border: none;\n",
              "      border-radius: 50%;\n",
              "      cursor: pointer;\n",
              "      display: none;\n",
              "      fill: #1967D2;\n",
              "      height: 32px;\n",
              "      padding: 0 0 0 0;\n",
              "      width: 32px;\n",
              "    }\n",
              "\n",
              "    .colab-df-convert:hover {\n",
              "      background-color: #E2EBFA;\n",
              "      box-shadow: 0px 1px 2px rgba(60, 64, 67, 0.3), 0px 1px 3px 1px rgba(60, 64, 67, 0.15);\n",
              "      fill: #174EA6;\n",
              "    }\n",
              "\n",
              "    [theme=dark] .colab-df-convert {\n",
              "      background-color: #3B4455;\n",
              "      fill: #D2E3FC;\n",
              "    }\n",
              "\n",
              "    [theme=dark] .colab-df-convert:hover {\n",
              "      background-color: #434B5C;\n",
              "      box-shadow: 0px 1px 3px 1px rgba(0, 0, 0, 0.15);\n",
              "      filter: drop-shadow(0px 1px 2px rgba(0, 0, 0, 0.3));\n",
              "      fill: #FFFFFF;\n",
              "    }\n",
              "  </style>\n",
              "\n",
              "      <script>\n",
              "        const buttonEl =\n",
              "          document.querySelector('#df-fa73f8a4-0cbf-4099-93bb-ae3b9f56c455 button.colab-df-convert');\n",
              "        buttonEl.style.display =\n",
              "          google.colab.kernel.accessAllowed ? 'block' : 'none';\n",
              "\n",
              "        async function convertToInteractive(key) {\n",
              "          const element = document.querySelector('#df-fa73f8a4-0cbf-4099-93bb-ae3b9f56c455');\n",
              "          const dataTable =\n",
              "            await google.colab.kernel.invokeFunction('convertToInteractive',\n",
              "                                                     [key], {});\n",
              "          if (!dataTable) return;\n",
              "\n",
              "          const docLinkHtml = 'Like what you see? Visit the ' +\n",
              "            '<a target=\"_blank\" href=https://colab.research.google.com/notebooks/data_table.ipynb>data table notebook</a>'\n",
              "            + ' to learn more about interactive tables.';\n",
              "          element.innerHTML = '';\n",
              "          dataTable['output_type'] = 'display_data';\n",
              "          await google.colab.output.renderOutput(dataTable, element);\n",
              "          const docLink = document.createElement('div');\n",
              "          docLink.innerHTML = docLinkHtml;\n",
              "          element.appendChild(docLink);\n",
              "        }\n",
              "      </script>\n",
              "    </div>\n",
              "  </div>\n",
              "  "
            ]
          },
          "metadata": {},
          "execution_count": 12
        }
      ]
    },
    {
      "cell_type": "code",
      "source": [
        "data.info()"
      ],
      "metadata": {
        "colab": {
          "base_uri": "https://localhost:8080/"
        },
        "id": "7GY81bkztfAZ",
        "outputId": "899a5802-980c-4c94-8286-d86b7a426a46"
      },
      "execution_count": null,
      "outputs": [
        {
          "output_type": "stream",
          "name": "stdout",
          "text": [
            "<class 'pandas.core.frame.DataFrame'>\n",
            "RangeIndex: 200 entries, 0 to 199\n",
            "Data columns (total 5 columns):\n",
            " #   Column           Non-Null Count  Dtype \n",
            "---  ------           --------------  ----- \n",
            " 0   customer_id      200 non-null    int64 \n",
            " 1   gender           200 non-null    object\n",
            " 2   age              200 non-null    int64 \n",
            " 3   annual_income    200 non-null    int64 \n",
            " 4   spending_scores  200 non-null    int64 \n",
            "dtypes: int64(4), object(1)\n",
            "memory usage: 7.9+ KB\n"
          ]
        }
      ]
    },
    {
      "cell_type": "markdown",
      "source": [
        "**5. Check for Missing values and deal with them.**"
      ],
      "metadata": {
        "id": "hm7XVlmMtmle"
      }
    },
    {
      "cell_type": "code",
      "source": [
        "data[data.duplicated()]"
      ],
      "metadata": {
        "colab": {
          "base_uri": "https://localhost:8080/",
          "height": 49
        },
        "id": "qiOlxq11tp3M",
        "outputId": "42582cdd-96a2-4fee-e11d-0a92c45a8d8e"
      },
      "execution_count": null,
      "outputs": [
        {
          "output_type": "execute_result",
          "data": {
            "text/plain": [
              "Empty DataFrame\n",
              "Columns: [customer_id, gender, age, annual_income, spending_scores]\n",
              "Index: []"
            ],
            "text/html": [
              "\n",
              "  <div id=\"df-5cf23b60-76e9-4b42-8ba8-e6e78bfcdb7a\">\n",
              "    <div class=\"colab-df-container\">\n",
              "      <div>\n",
              "<style scoped>\n",
              "    .dataframe tbody tr th:only-of-type {\n",
              "        vertical-align: middle;\n",
              "    }\n",
              "\n",
              "    .dataframe tbody tr th {\n",
              "        vertical-align: top;\n",
              "    }\n",
              "\n",
              "    .dataframe thead th {\n",
              "        text-align: right;\n",
              "    }\n",
              "</style>\n",
              "<table border=\"1\" class=\"dataframe\">\n",
              "  <thead>\n",
              "    <tr style=\"text-align: right;\">\n",
              "      <th></th>\n",
              "      <th>customer_id</th>\n",
              "      <th>gender</th>\n",
              "      <th>age</th>\n",
              "      <th>annual_income</th>\n",
              "      <th>spending_scores</th>\n",
              "    </tr>\n",
              "  </thead>\n",
              "  <tbody>\n",
              "  </tbody>\n",
              "</table>\n",
              "</div>\n",
              "      <button class=\"colab-df-convert\" onclick=\"convertToInteractive('df-5cf23b60-76e9-4b42-8ba8-e6e78bfcdb7a')\"\n",
              "              title=\"Convert this dataframe to an interactive table.\"\n",
              "              style=\"display:none;\">\n",
              "        \n",
              "  <svg xmlns=\"http://www.w3.org/2000/svg\" height=\"24px\"viewBox=\"0 0 24 24\"\n",
              "       width=\"24px\">\n",
              "    <path d=\"M0 0h24v24H0V0z\" fill=\"none\"/>\n",
              "    <path d=\"M18.56 5.44l.94 2.06.94-2.06 2.06-.94-2.06-.94-.94-2.06-.94 2.06-2.06.94zm-11 1L8.5 8.5l.94-2.06 2.06-.94-2.06-.94L8.5 2.5l-.94 2.06-2.06.94zm10 10l.94 2.06.94-2.06 2.06-.94-2.06-.94-.94-2.06-.94 2.06-2.06.94z\"/><path d=\"M17.41 7.96l-1.37-1.37c-.4-.4-.92-.59-1.43-.59-.52 0-1.04.2-1.43.59L10.3 9.45l-7.72 7.72c-.78.78-.78 2.05 0 2.83L4 21.41c.39.39.9.59 1.41.59.51 0 1.02-.2 1.41-.59l7.78-7.78 2.81-2.81c.8-.78.8-2.07 0-2.86zM5.41 20L4 18.59l7.72-7.72 1.47 1.35L5.41 20z\"/>\n",
              "  </svg>\n",
              "      </button>\n",
              "      \n",
              "  <style>\n",
              "    .colab-df-container {\n",
              "      display:flex;\n",
              "      flex-wrap:wrap;\n",
              "      gap: 12px;\n",
              "    }\n",
              "\n",
              "    .colab-df-convert {\n",
              "      background-color: #E8F0FE;\n",
              "      border: none;\n",
              "      border-radius: 50%;\n",
              "      cursor: pointer;\n",
              "      display: none;\n",
              "      fill: #1967D2;\n",
              "      height: 32px;\n",
              "      padding: 0 0 0 0;\n",
              "      width: 32px;\n",
              "    }\n",
              "\n",
              "    .colab-df-convert:hover {\n",
              "      background-color: #E2EBFA;\n",
              "      box-shadow: 0px 1px 2px rgba(60, 64, 67, 0.3), 0px 1px 3px 1px rgba(60, 64, 67, 0.15);\n",
              "      fill: #174EA6;\n",
              "    }\n",
              "\n",
              "    [theme=dark] .colab-df-convert {\n",
              "      background-color: #3B4455;\n",
              "      fill: #D2E3FC;\n",
              "    }\n",
              "\n",
              "    [theme=dark] .colab-df-convert:hover {\n",
              "      background-color: #434B5C;\n",
              "      box-shadow: 0px 1px 3px 1px rgba(0, 0, 0, 0.15);\n",
              "      filter: drop-shadow(0px 1px 2px rgba(0, 0, 0, 0.3));\n",
              "      fill: #FFFFFF;\n",
              "    }\n",
              "  </style>\n",
              "\n",
              "      <script>\n",
              "        const buttonEl =\n",
              "          document.querySelector('#df-5cf23b60-76e9-4b42-8ba8-e6e78bfcdb7a button.colab-df-convert');\n",
              "        buttonEl.style.display =\n",
              "          google.colab.kernel.accessAllowed ? 'block' : 'none';\n",
              "\n",
              "        async function convertToInteractive(key) {\n",
              "          const element = document.querySelector('#df-5cf23b60-76e9-4b42-8ba8-e6e78bfcdb7a');\n",
              "          const dataTable =\n",
              "            await google.colab.kernel.invokeFunction('convertToInteractive',\n",
              "                                                     [key], {});\n",
              "          if (!dataTable) return;\n",
              "\n",
              "          const docLinkHtml = 'Like what you see? Visit the ' +\n",
              "            '<a target=\"_blank\" href=https://colab.research.google.com/notebooks/data_table.ipynb>data table notebook</a>'\n",
              "            + ' to learn more about interactive tables.';\n",
              "          element.innerHTML = '';\n",
              "          dataTable['output_type'] = 'display_data';\n",
              "          await google.colab.output.renderOutput(dataTable, element);\n",
              "          const docLink = document.createElement('div');\n",
              "          docLink.innerHTML = docLinkHtml;\n",
              "          element.appendChild(docLink);\n",
              "        }\n",
              "      </script>\n",
              "    </div>\n",
              "  </div>\n",
              "  "
            ]
          },
          "metadata": {},
          "execution_count": 14
        }
      ]
    },
    {
      "cell_type": "code",
      "source": [
        "data.isna().sum()"
      ],
      "metadata": {
        "colab": {
          "base_uri": "https://localhost:8080/"
        },
        "id": "bB_p_GGNtu_z",
        "outputId": "67923194-3fc2-4de3-dfde-14e113e4999f"
      },
      "execution_count": null,
      "outputs": [
        {
          "output_type": "execute_result",
          "data": {
            "text/plain": [
              "customer_id        0\n",
              "gender             0\n",
              "age                0\n",
              "annual_income      0\n",
              "spending_scores    0\n",
              "dtype: int64"
            ]
          },
          "metadata": {},
          "execution_count": 15
        }
      ]
    },
    {
      "cell_type": "markdown",
      "source": [
        "**there is no missing values and duplicates in dataframe**"
      ],
      "metadata": {
        "id": "j76K9XGwt2k0"
      }
    },
    {
      "cell_type": "markdown",
      "source": [
        "**6. Find the outliers and replace them outliers**"
      ],
      "metadata": {
        "id": "-yvqcmuLt66b"
      }
    },
    {
      "cell_type": "code",
      "source": [
        "for i in data:\n",
        "    if data[i].dtype=='int64':\n",
        "        q1=data[i].quantile(0.25)\n",
        "        q3=data[i].quantile(0.75)\n",
        "        iqr=q3-q1\n",
        "        upper=q3+1.5*iqr\n",
        "        lower=q1-1.5*iqr\n",
        "        data[i]=np.where(data[i] >upper, upper, data[i])\n",
        "        data[i]=np.where(data[i] <lower, lower, data[i])"
      ],
      "metadata": {
        "id": "JUaXGPJVt9JG"
      },
      "execution_count": null,
      "outputs": []
    },
    {
      "cell_type": "markdown",
      "source": [
        "**After removing outliers, boxplot will be like**"
      ],
      "metadata": {
        "id": "zfbqac8kuDB2"
      }
    },
    {
      "cell_type": "code",
      "source": [
        "plt.boxplot(data['age'])"
      ],
      "metadata": {
        "colab": {
          "base_uri": "https://localhost:8080/",
          "height": 404
        },
        "id": "W5W2G_p2uMRN",
        "outputId": "65f8b7df-c3ef-4974-b4c6-26b8bee3fdb0"
      },
      "execution_count": null,
      "outputs": [
        {
          "output_type": "execute_result",
          "data": {
            "text/plain": [
              "{'whiskers': [<matplotlib.lines.Line2D at 0x7fe7418d49d0>,\n",
              "  <matplotlib.lines.Line2D at 0x7fe7418d4f10>],\n",
              " 'caps': [<matplotlib.lines.Line2D at 0x7fe7418d9490>,\n",
              "  <matplotlib.lines.Line2D at 0x7fe7418d99d0>],\n",
              " 'boxes': [<matplotlib.lines.Line2D at 0x7fe7418d4410>],\n",
              " 'medians': [<matplotlib.lines.Line2D at 0x7fe7418d9f50>],\n",
              " 'fliers': [<matplotlib.lines.Line2D at 0x7fe7418de4d0>],\n",
              " 'means': []}"
            ]
          },
          "metadata": {},
          "execution_count": 17
        },
        {
          "output_type": "display_data",
          "data": {
            "text/plain": [
              "<Figure size 432x288 with 1 Axes>"
            ],
            "image/png": "[encoded data removed]"
          },
          "metadata": {
            "needs_background": "light"
          }
        }
      ]
    },
    {
      "cell_type": "code",
      "source": [
        "plt.boxplot(data['annual_income'])"
      ],
      "metadata": {
        "colab": {
          "base_uri": "https://localhost:8080/",
          "height": 404
        },
        "id": "vlpRKRjeuTFn",
        "outputId": "e23ed222-7797-4d61-c23f-797437d7dcc0"
      },
      "execution_count": null,
      "outputs": [
        {
          "output_type": "execute_result",
          "data": {
            "text/plain": [
              "{'whiskers': [<matplotlib.lines.Line2D at 0x7fe741838510>,\n",
              "  <matplotlib.lines.Line2D at 0x7fe741838a50>],\n",
              " 'caps': [<matplotlib.lines.Line2D at 0x7fe741838f90>,\n",
              "  <matplotlib.lines.Line2D at 0x7fe74183e510>],\n",
              " 'boxes': [<matplotlib.lines.Line2D at 0x7fe741831f50>],\n",
              " 'medians': [<matplotlib.lines.Line2D at 0x7fe74183ea90>],\n",
              " 'fliers': [<matplotlib.lines.Line2D at 0x7fe74183efd0>],\n",
              " 'means': []}"
            ]
          },
          "metadata": {},
          "execution_count": 18
        },
        {
          "output_type": "display_data",
          "data": {
            "text/plain": [
              "<Figure size 432x288 with 1 Axes>"
            ],
            "image/png": "[encoded data removed]"
          },
          "metadata": {
            "needs_background": "light"
          }
        }
      ]
    },
    {
      "cell_type": "code",
      "source": [
        "plt.boxplot(data['spending_scores'])"
      ],
      "metadata": {
        "colab": {
          "base_uri": "https://localhost:8080/",
          "height": 404
        },
        "id": "4z4gN8CtuX3D",
        "outputId": "db9b3266-1b00-4ed9-f8bb-d0d314898d46"
      },
      "execution_count": null,
      "outputs": [
        {
          "output_type": "execute_result",
          "data": {
            "text/plain": [
              "{'whiskers': [<matplotlib.lines.Line2D at 0x7fe741823f50>,\n",
              "  <matplotlib.lines.Line2D at 0x7fe7417a74d0>],\n",
              " 'caps': [<matplotlib.lines.Line2D at 0x7fe7417a7a10>,\n",
              "  <matplotlib.lines.Line2D at 0x7fe7417a7f50>],\n",
              " 'boxes': [<matplotlib.lines.Line2D at 0x7fe7418239d0>],\n",
              " 'medians': [<matplotlib.lines.Line2D at 0x7fe7417af510>],\n",
              " 'fliers': [<matplotlib.lines.Line2D at 0x7fe7417afa50>],\n",
              " 'means': []}"
            ]
          },
          "metadata": {},
          "execution_count": 19
        },
        {
          "output_type": "display_data",
          "data": {
            "text/plain": [
              "<Figure size 432x288 with 1 Axes>"
            ],
            "image/png": "[encoded data removed]"
          },
          "metadata": {
            "needs_background": "light"
          }
        }
      ]
    },
    {
      "cell_type": "markdown",
      "source": [
        "**7. Check for Categorical columns and perform encoding.**\n"
      ],
      "metadata": {
        "id": "HyRugcOTudxs"
      }
    },
    {
      "cell_type": "code",
      "source": [
        "from sklearn.preprocessing import LabelEncoder\n",
        "encoder=LabelEncoder()\n",
        "data['gender']=encoder.fit_transform(data['gender'])"
      ],
      "metadata": {
        "id": "ficvGDzuuf5F"
      },
      "execution_count": null,
      "outputs": []
    },
    {
      "cell_type": "code",
      "source": [
        "data.head()"
      ],
      "metadata": {
        "colab": {
          "base_uri": "https://localhost:8080/",
          "height": 206
        },
        "id": "ruR4cGS1ukXK",
        "outputId": "013293c8-30a6-45ed-8bdd-a557c1f7d959"
      },
      "execution_count": null,
      "outputs": [
        {
          "output_type": "execute_result",
          "data": {
            "text/plain": [
              "   customer_id  gender   age  annual_income  spending_scores\n",
              "0          1.0       1  19.0           15.0             39.0\n",
              "1          2.0       1  21.0           15.0             81.0\n",
              "2          3.0       0  20.0           16.0              6.0\n",
              "3          4.0       0  23.0           16.0             77.0\n",
              "4          5.0       0  31.0           17.0             40.0"
            ],
            "text/html": [
              "\n",
              "  <div id=\"df-90fa58c9-1841-4378-b05d-15b952e62240\">\n",
              "    <div class=\"colab-df-container\">\n",
              "      <div>\n",
              "<style scoped>\n",
              "    .dataframe tbody tr th:only-of-type {\n",
              "        vertical-align: middle;\n",
              "    }\n",
              "\n",
              "    .dataframe tbody tr th {\n",
              "        vertical-align: top;\n",
              "    }\n",
              "\n",
              "    .dataframe thead th {\n",
              "        text-align: right;\n",
              "    }\n",
              "</style>\n",
              "<table border=\"1\" class=\"dataframe\">\n",
              "  <thead>\n",
              "    <tr style=\"text-align: right;\">\n",
              "      <th></th>\n",
              "      <th>customer_id</th>\n",
              "      <th>gender</th>\n",
              "      <th>age</th>\n",
              "      <th>annual_income</th>\n",
              "      <th>spending_scores</th>\n",
              "    </tr>\n",
              "  </thead>\n",
              "  <tbody>\n",
              "    <tr>\n",
              "      <th>0</th>\n",
              "      <td>1.0</td>\n",
              "      <td>1</td>\n",
              "      <td>19.0</td>\n",
              "      <td>15.0</td>\n",
              "      <td>39.0</td>\n",
              "    </tr>\n",
              "    <tr>\n",
              "      <th>1</th>\n",
              "      <td>2.0</td>\n",
              "      <td>1</td>\n",
              "      <td>21.0</td>\n",
              "      <td>15.0</td>\n",
              "      <td>81.0</td>\n",
              "    </tr>\n",
              "    <tr>\n",
              "      <th>2</th>\n",
              "      <td>3.0</td>\n",
              "      <td>0</td>\n",
              "      <td>20.0</td>\n",
              "      <td>16.0</td>\n",
              "      <td>6.0</td>\n",
              "    </tr>\n",
              "    <tr>\n",
              "      <th>3</th>\n",
              "      <td>4.0</td>\n",
              "      <td>0</td>\n",
              "      <td>23.0</td>\n",
              "      <td>16.0</td>\n",
              "      <td>77.0</td>\n",
              "    </tr>\n",
              "    <tr>\n",
              "      <th>4</th>\n",
              "      <td>5.0</td>\n",
              "      <td>0</td>\n",
              "      <td>31.0</td>\n",
              "      <td>17.0</td>\n",
              "      <td>40.0</td>\n",
              "    </tr>\n",
              "  </tbody>\n",
              "</table>\n",
              "</div>\n",
              "      <button class=\"colab-df-convert\" onclick=\"convertToInteractive('df-90fa58c9-1841-4378-b05d-15b952e62240')\"\n",
              "              title=\"Convert this dataframe to an interactive table.\"\n",
              "              style=\"display:none;\">\n",
              "        \n",
              "  <svg xmlns=\"http://www.w3.org/2000/svg\" height=\"24px\"viewBox=\"0 0 24 24\"\n",
              "       width=\"24px\">\n",
              "    <path d=\"M0 0h24v24H0V0z\" fill=\"none\"/>\n",
              "    <path d=\"M18.56 5.44l.94 2.06.94-2.06 2.06-.94-2.06-.94-.94-2.06-.94 2.06-2.06.94zm-11 1L8.5 8.5l.94-2.06 2.06-.94-2.06-.94L8.5 2.5l-.94 2.06-2.06.94zm10 10l.94 2.06.94-2.06 2.06-.94-2.06-.94-.94-2.06-.94 2.06-2.06.94z\"/><path d=\"M17.41 7.96l-1.37-1.37c-.4-.4-.92-.59-1.43-.59-.52 0-1.04.2-1.43.59L10.3 9.45l-7.72 7.72c-.78.78-.78 2.05 0 2.83L4 21.41c.39.39.9.59 1.41.59.51 0 1.02-.2 1.41-.59l7.78-7.78 2.81-2.81c.8-.78.8-2.07 0-2.86zM5.41 20L4 18.59l7.72-7.72 1.47 1.35L5.41 20z\"/>\n",
              "  </svg>\n",
              "      </button>\n",
              "      \n",
              "  <style>\n",
              "    .colab-df-container {\n",
              "      display:flex;\n",
              "      flex-wrap:wrap;\n",
              "      gap: 12px;\n",
              "    }\n",
              "\n",
              "    .colab-df-convert {\n",
              "      background-color: #E8F0FE;\n",
              "      border: none;\n",
              "      border-radius: 50%;\n",
              "      cursor: pointer;\n",
              "      display: none;\n",
              "      fill: #1967D2;\n",
              "      height: 32px;\n",
              "      padding: 0 0 0 0;\n",
              "      width: 32px;\n",
              "    }\n",
              "\n",
              "    .colab-df-convert:hover {\n",
              "      background-color: #E2EBFA;\n",
              "      box-shadow: 0px 1px 2px rgba(60, 64, 67, 0.3), 0px 1px 3px 1px rgba(60, 64, 67, 0.15);\n",
              "      fill: #174EA6;\n",
              "    }\n",
              "\n",
              "    [theme=dark] .colab-df-convert {\n",
              "      background-color: #3B4455;\n",
              "      fill: #D2E3FC;\n",
              "    }\n",
              "\n",
              "    [theme=dark] .colab-df-convert:hover {\n",
              "      background-color: #434B5C;\n",
              "      box-shadow: 0px 1px 3px 1px rgba(0, 0, 0, 0.15);\n",
              "      filter: drop-shadow(0px 1px 2px rgba(0, 0, 0, 0.3));\n",
              "      fill: #FFFFFF;\n",
              "    }\n",
              "  </style>\n",
              "\n",
              "      <script>\n",
              "        const buttonEl =\n",
              "          document.querySelector('#df-90fa58c9-1841-4378-b05d-15b952e62240 button.colab-df-convert');\n",
              "        buttonEl.style.display =\n",
              "          google.colab.kernel.accessAllowed ? 'block' : 'none';\n",
              "\n",
              "        async function convertToInteractive(key) {\n",
              "          const element = document.querySelector('#df-90fa58c9-1841-4378-b05d-15b952e62240');\n",
              "          const dataTable =\n",
              "            await google.colab.kernel.invokeFunction('convertToInteractive',\n",
              "                                                     [key], {});\n",
              "          if (!dataTable) return;\n",
              "\n",
              "          const docLinkHtml = 'Like what you see? Visit the ' +\n",
              "            '<a target=\"_blank\" href=https://colab.research.google.com/notebooks/data_table.ipynb>data table notebook</a>'\n",
              "            + ' to learn more about interactive tables.';\n",
              "          element.innerHTML = '';\n",
              "          dataTable['output_type'] = 'display_data';\n",
              "          await google.colab.output.renderOutput(dataTable, element);\n",
              "          const docLink = document.createElement('div');\n",
              "          docLink.innerHTML = docLinkHtml;\n",
              "          element.appendChild(docLink);\n",
              "        }\n",
              "      </script>\n",
              "    </div>\n",
              "  </div>\n",
              "  "
            ]
          },
          "metadata": {},
          "execution_count": 21
        }
      ]
    },
    {
      "cell_type": "markdown",
      "source": [
        "**8. Scalaing the data**"
      ],
      "metadata": {
        "id": "z4JF6Jf4up-n"
      }
    },
    {
      "cell_type": "code",
      "source": [
        "from sklearn.preprocessing import StandardScaler\n",
        "df=StandardScaler()\n",
        "data1=df.fit_transform(data)"
      ],
      "metadata": {
        "id": "2YBW7idHur7F"
      },
      "execution_count": null,
      "outputs": []
    },
    {
      "cell_type": "code",
      "source": [
        "data1"
      ],
      "metadata": {
        "colab": {
          "base_uri": "https://localhost:8080/"
        },
        "id": "wRYOLDzBuvgt",
        "outputId": "8b4328e2-83d2-4406-bff8-d6b83a4207a9"
      },
      "execution_count": null,
      "outputs": [
        {
          "output_type": "execute_result",
          "data": {
            "text/plain": [
              "array([[-1.7234121 ,  1.12815215, -1.42456879, -1.74542941, -0.43480148],\n",
              "       [-1.70609137,  1.12815215, -1.28103541, -1.74542941,  1.19570407],\n",
              "       [-1.68877065, -0.88640526, -1.3528021 , -1.70708307, -1.71591298],\n",
              "       [-1.67144992, -0.88640526, -1.13750203, -1.70708307,  1.04041783],\n",
              "       [-1.6541292 , -0.88640526, -0.56336851, -1.66873673, -0.39597992],\n",
              "       [-1.63680847, -0.88640526, -1.20926872, -1.66873673,  1.00159627],\n",
              "       [-1.61948775, -0.88640526, -0.27630176, -1.6303904 , -1.71591298],\n",
              "       [-1.60216702, -0.88640526, -1.13750203, -1.6303904 ,  1.70038436],\n",
              "       [-1.5848463 ,  1.12815215,  1.80493225, -1.59204406, -1.83237767],\n",
              "       [-1.56752558, -0.88640526, -0.6351352 , -1.59204406,  0.84631002],\n",
              "       [-1.55020485,  1.12815215,  2.02023231, -1.59204406, -1.4053405 ],\n",
              "       [-1.53288413, -0.88640526, -0.27630176, -1.59204406,  1.89449216],\n",
              "       [-1.5155634 , -0.88640526,  1.37433211, -1.55369772, -1.36651894],\n",
              "       [-1.49824268, -0.88640526, -1.06573534, -1.55369772,  1.04041783],\n",
              "       [-1.48092195,  1.12815215, -0.13276838, -1.55369772, -1.44416206],\n",
              "       [-1.46360123,  1.12815215, -1.20926872, -1.55369772,  1.11806095],\n",
              "       [-1.4462805 , -0.88640526, -0.27630176, -1.51535138, -0.59008772],\n",
              "       [-1.42895978,  1.12815215, -1.3528021 , -1.51535138,  0.61338066],\n",
              "       [-1.41163905,  1.12815215,  0.94373197, -1.43865871, -0.82301709],\n",
              "       [-1.39431833, -0.88640526, -0.27630176, -1.43865871,  1.8556706 ],\n",
              "       [-1.3769976 ,  1.12815215, -0.27630176, -1.40031237, -0.59008772],\n",
              "       [-1.35967688,  1.12815215, -0.99396865, -1.40031237,  0.88513158],\n",
              "       [-1.34235616, -0.88640526,  0.51313183, -1.36196603, -1.75473454],\n",
              "       [-1.32503543,  1.12815215, -0.56336851, -1.36196603,  0.88513158],\n",
              "       [-1.30771471, -0.88640526,  1.08726535, -1.24692702, -1.4053405 ],\n",
              "       [-1.29039398,  1.12815215, -0.70690189, -1.24692702,  1.23452563],\n",
              "       [-1.27307326, -0.88640526,  0.44136514, -1.24692702, -0.7065524 ],\n",
              "       [-1.25575253,  1.12815215, -0.27630176, -1.24692702,  0.41927286],\n",
              "       [-1.23843181, -0.88640526,  0.08253169, -1.20858069, -0.74537397],\n",
              "       [-1.22111108, -0.88640526, -1.13750203, -1.20858069,  1.42863343],\n",
              "       [-1.20379036,  1.12815215,  1.51786549, -1.17023435, -1.7935561 ],\n",
              "       [-1.18646963, -0.88640526, -1.28103541, -1.17023435,  0.88513158],\n",
              "       [-1.16914891,  1.12815215,  1.01549866, -1.05519534, -1.7935561 ],\n",
              "       [-1.15182818,  1.12815215, -1.49633548, -1.05519534,  1.62274124],\n",
              "       [-1.13450746, -0.88640526,  0.7284319 , -1.05519534, -1.4053405 ],\n",
              "       [-1.11718674, -0.88640526, -1.28103541, -1.05519534,  1.19570407],\n",
              "       [-1.09986601, -0.88640526,  0.22606507, -1.016849  , -1.28887582],\n",
              "       [-1.08254529, -0.88640526, -0.6351352 , -1.016849  ,  0.88513158],\n",
              "       [-1.06522456, -0.88640526, -0.20453507, -0.90180999, -0.93948177],\n",
              "       [-1.04790384, -0.88640526, -1.3528021 , -0.90180999,  0.96277471],\n",
              "       [-1.03058311, -0.88640526,  1.87669894, -0.86346365, -0.59008772],\n",
              "       [-1.01326239,  1.12815215, -1.06573534, -0.86346365,  1.62274124],\n",
              "       [-0.99594166,  1.12815215,  0.65666521, -0.82511731, -0.55126616],\n",
              "       [-0.97862094, -0.88640526, -0.56336851, -0.82511731,  0.41927286],\n",
              "       [-0.96130021, -0.88640526,  0.7284319 , -0.82511731, -0.86183865],\n",
              "       [-0.94397949, -0.88640526, -1.06573534, -0.82511731,  0.5745591 ],\n",
              "       [-0.92665877, -0.88640526,  0.80019859, -0.78677098,  0.18634349],\n",
              "       [-0.90933804, -0.88640526, -0.85043527, -0.78677098, -0.12422899],\n",
              "       [-0.89201732, -0.88640526, -0.70690189, -0.78677098, -0.3183368 ],\n",
              "       [-0.87469659, -0.88640526, -0.56336851, -0.78677098, -0.3183368 ],\n",
              "       [-0.85737587, -0.88640526,  0.7284319 , -0.7100783 ,  0.06987881],\n",
              "       [-0.84005514,  1.12815215, -0.41983513, -0.7100783 ,  0.38045129],\n",
              "       [-0.82273442, -0.88640526, -0.56336851, -0.67173196,  0.14752193],\n",
              "       [-0.80541369,  1.12815215,  1.4460988 , -0.67173196,  0.38045129],\n",
              "       [-0.78809297, -0.88640526,  0.80019859, -0.67173196, -0.20187212],\n",
              "       [-0.77077224,  1.12815215,  0.58489852, -0.67173196, -0.35715836],\n",
              "       [-0.75345152, -0.88640526,  0.87196528, -0.63338563, -0.00776431],\n",
              "       [-0.73613079,  1.12815215,  2.16376569, -0.63338563, -0.16305055],\n",
              "       [-0.71881007, -0.88640526, -0.85043527, -0.55669295,  0.03105725],\n",
              "       [-0.70148935,  1.12815215,  1.01549866, -0.55669295, -0.16305055],\n",
              "       [-0.68416862,  1.12815215,  2.23553238, -0.55669295,  0.22516505],\n",
              "       [-0.6668479 ,  1.12815215, -1.42456879, -0.55669295,  0.18634349],\n",
              "       [-0.64952717, -0.88640526,  2.02023231, -0.51834661,  0.06987881],\n",
              "       [-0.63220645, -0.88640526,  1.08726535, -0.51834661,  0.34162973],\n",
              "       [-0.61488572,  1.12815215,  1.73316556, -0.48000028,  0.03105725],\n",
              "       [-0.597565  ,  1.12815215, -1.49633548, -0.48000028,  0.34162973],\n",
              "       [-0.58024427, -0.88640526,  0.29783176, -0.48000028, -0.00776431],\n",
              "       [-0.56292355, -0.88640526,  2.091999  , -0.48000028, -0.08540743],\n",
              "       [-0.54560282,  1.12815215, -1.42456879, -0.48000028,  0.34162973],\n",
              "       [-0.5282821 , -0.88640526, -0.49160182, -0.48000028, -0.12422899],\n",
              "       [-0.51096138,  1.12815215,  2.23553238, -0.44165394,  0.18634349],\n",
              "       [-0.49364065, -0.88640526,  0.58489852, -0.44165394, -0.3183368 ],\n",
              "       [-0.47631993, -0.88640526,  1.51786549, -0.4033076 , -0.04658587],\n",
              "       [-0.4589992 , -0.88640526,  1.51786549, -0.4033076 ,  0.22516505],\n",
              "       [-0.44167848,  1.12815215,  1.4460988 , -0.24992225, -0.12422899],\n",
              "       [-0.42435775,  1.12815215, -0.92220196, -0.24992225,  0.14752193],\n",
              "       [-0.40703703, -0.88640526,  0.44136514, -0.24992225,  0.10870037],\n",
              "       [-0.3897163 ,  1.12815215,  0.08253169, -0.24992225, -0.08540743],\n",
              "       [-0.37239558, -0.88640526, -1.13750203, -0.24992225,  0.06987881],\n",
              "       [-0.35507485, -0.88640526,  0.7284319 , -0.24992225, -0.3183368 ],\n",
              "       [-0.33775413,  1.12815215,  1.30256542, -0.24992225,  0.03105725],\n",
              "       [-0.3204334 ,  1.12815215, -0.06100169, -0.24992225,  0.18634349],\n",
              "       [-0.30311268,  1.12815215,  2.02023231, -0.24992225, -0.35715836],\n",
              "       [-0.28579196, -0.88640526,  0.51313183, -0.24992225, -0.24069368],\n",
              "       [-0.26847123, -0.88640526, -1.28103541, -0.24992225,  0.26398661],\n",
              "       [-0.25115051,  1.12815215,  0.65666521, -0.24992225, -0.16305055],\n",
              "       [-0.23382978, -0.88640526,  1.15903204, -0.13488324,  0.30280817],\n",
              "       [-0.21650906, -0.88640526, -1.20926872, -0.13488324,  0.18634349],\n",
              "       [-0.19918833, -0.88640526, -0.34806844, -0.0965369 ,  0.38045129],\n",
              "       [-0.18186761, -0.88640526,  0.80019859, -0.0965369 , -0.16305055],\n",
              "       [-0.16454688, -0.88640526,  2.091999  , -0.05819057,  0.18634349],\n",
              "       [-0.14722616,  1.12815215, -1.49633548, -0.05819057, -0.35715836],\n",
              "       [-0.12990543,  1.12815215,  0.65666521, -0.01984423, -0.04658587],\n",
              "       [-0.11258471, -0.88640526,  0.08253169, -0.01984423, -0.39597992],\n",
              "       [-0.09526399, -0.88640526, -0.49160182, -0.01984423, -0.3183368 ],\n",
              "       [-0.07794326,  1.12815215, -1.06573534, -0.01984423,  0.06987881],\n",
              "       [-0.06062254, -0.88640526,  0.58489852, -0.01984423, -0.12422899],\n",
              "       [-0.04330181, -0.88640526, -0.85043527, -0.01984423, -0.00776431],\n",
              "       [-0.02598109,  1.12815215,  0.65666521,  0.01850211, -0.3183368 ],\n",
              "       [-0.00866036,  1.12815215, -1.3528021 ,  0.01850211, -0.04658587],\n",
              "       [ 0.00866036, -0.88640526, -1.13750203,  0.05684845, -0.35715836],\n",
              "       [ 0.02598109, -0.88640526,  0.7284319 ,  0.05684845, -0.08540743],\n",
              "       [ 0.04330181,  1.12815215,  2.02023231,  0.05684845,  0.34162973],\n",
              "       [ 0.06062254,  1.12815215, -0.92220196,  0.05684845,  0.18634349],\n",
              "       [ 0.07794326,  1.12815215,  0.7284319 ,  0.05684845,  0.22516505],\n",
              "       [ 0.09526399, -0.88640526, -1.28103541,  0.05684845, -0.3183368 ],\n",
              "       [ 0.11258471, -0.88640526,  1.94846562,  0.09519478, -0.00776431],\n",
              "       [ 0.12990543,  1.12815215,  1.08726535,  0.09519478, -0.16305055],\n",
              "       [ 0.14722616,  1.12815215,  2.091999  ,  0.09519478, -0.27951524],\n",
              "       [ 0.16454688,  1.12815215,  1.94846562,  0.09519478, -0.08540743],\n",
              "       [ 0.18186761,  1.12815215,  1.87669894,  0.09519478,  0.06987881],\n",
              "       [ 0.19918833, -0.88640526, -1.42456879,  0.09519478,  0.14752193],\n",
              "       [ 0.21650906, -0.88640526, -0.06100169,  0.13354112, -0.3183368 ],\n",
              "       [ 0.23382978,  1.12815215, -1.42456879,  0.13354112, -0.16305055],\n",
              "       [ 0.25115051, -0.88640526, -1.49633548,  0.17188746, -0.08540743],\n",
              "       [ 0.26847123, -0.88640526, -1.42456879,  0.17188746, -0.00776431],\n",
              "       [ 0.28579196, -0.88640526,  1.73316556,  0.17188746, -0.27951524],\n",
              "       [ 0.30311268, -0.88640526,  0.7284319 ,  0.17188746,  0.34162973],\n",
              "       [ 0.3204334 , -0.88640526,  0.87196528,  0.24858013, -0.27951524],\n",
              "       [ 0.33775413, -0.88640526,  0.80019859,  0.24858013,  0.26398661],\n",
              "       [ 0.35507485,  1.12815215, -0.85043527,  0.24858013,  0.22516505],\n",
              "       [ 0.37239558, -0.88640526, -0.06100169,  0.24858013, -0.39597992],\n",
              "       [ 0.3897163 , -0.88640526,  0.08253169,  0.32527281,  0.30280817],\n",
              "       [ 0.40703703,  1.12815215,  0.010765  ,  0.32527281,  1.58391968],\n",
              "       [ 0.42435775, -0.88640526, -1.13750203,  0.36361914, -0.82301709],\n",
              "       [ 0.44167848, -0.88640526, -0.56336851,  0.36361914,  1.04041783],\n",
              "       [ 0.4589992 ,  1.12815215,  0.29783176,  0.40196548, -0.59008772],\n",
              "       [ 0.47631993,  1.12815215,  0.08253169,  0.40196548,  1.73920592],\n",
              "       [ 0.49364065,  1.12815215,  1.4460988 ,  0.40196548, -1.52180518],\n",
              "       [ 0.51096138,  1.12815215, -0.06100169,  0.40196548,  0.96277471],\n",
              "       [ 0.5282821 ,  1.12815215,  0.58489852,  0.40196548, -1.5994483 ],\n",
              "       [ 0.54560282,  1.12815215,  0.010765  ,  0.40196548,  0.96277471],\n",
              "       [ 0.56292355, -0.88640526, -0.99396865,  0.44031182, -0.62890928],\n",
              "       [ 0.58024427, -0.88640526, -0.56336851,  0.44031182,  0.80748846],\n",
              "       [ 0.597565  ,  1.12815215, -1.3528021 ,  0.47865816, -1.75473454],\n",
              "       [ 0.61488572, -0.88640526, -0.70690189,  0.47865816,  1.46745499],\n",
              "       [ 0.63220645, -0.88640526,  0.36959845,  0.47865816, -1.67709142],\n",
              "       [ 0.64952717,  1.12815215, -0.49160182,  0.47865816,  0.88513158],\n",
              "       [ 0.6668479 ,  1.12815215, -1.42456879,  0.51700449, -1.56062674],\n",
              "       [ 0.68416862, -0.88640526, -0.27630176,  0.51700449,  0.84631002],\n",
              "       [ 0.70148935, -0.88640526,  1.30256542,  0.55535083, -1.75473454],\n",
              "       [ 0.71881007,  1.12815215, -0.49160182,  0.55535083,  1.6615628 ],\n",
              "       [ 0.73613079, -0.88640526, -0.77866858,  0.59369717, -0.39597992],\n",
              "       [ 0.75345152, -0.88640526, -0.49160182,  0.59369717,  1.42863343],\n",
              "       [ 0.77077224,  1.12815215, -0.99396865,  0.6320435 , -1.48298362],\n",
              "       [ 0.78809297,  1.12815215, -0.77866858,  0.6320435 ,  1.81684904],\n",
              "       [ 0.80541369,  1.12815215,  0.65666521,  0.6320435 , -0.55126616],\n",
              "       [ 0.82273442, -0.88640526, -0.49160182,  0.6320435 ,  0.92395314],\n",
              "       [ 0.84005514, -0.88640526, -0.34806844,  0.67038984, -1.09476801],\n",
              "       [ 0.85737587,  1.12815215, -0.34806844,  0.67038984,  1.54509812],\n",
              "       [ 0.87469659,  1.12815215,  0.29783176,  0.67038984, -1.28887582],\n",
              "       [ 0.89201732,  1.12815215,  0.010765  ,  0.67038984,  1.46745499],\n",
              "       [ 0.90933804, -0.88640526,  0.36959845,  0.67038984, -1.17241113],\n",
              "       [ 0.92665877, -0.88640526, -0.06100169,  0.67038984,  1.00159627],\n",
              "       [ 0.94397949, -0.88640526,  0.58489852,  0.67038984, -1.32769738],\n",
              "       [ 0.96130021, -0.88640526, -0.85043527,  0.67038984,  1.50627656],\n",
              "       [ 0.97862094,  1.12815215, -0.13276838,  0.67038984, -1.91002079],\n",
              "       [ 0.99594166, -0.88640526, -0.6351352 ,  0.67038984,  1.07923939],\n",
              "       [ 1.01326239,  1.12815215, -0.34806844,  0.67038984, -1.91002079],\n",
              "       [ 1.03058311, -0.88640526, -0.6351352 ,  0.67038984,  0.88513158],\n",
              "       [ 1.04790384, -0.88640526,  1.23079873,  0.70873618, -0.59008772],\n",
              "       [ 1.06522456, -0.88640526, -0.70690189,  0.70873618,  1.27334719],\n",
              "       [ 1.08254529,  1.12815215, -1.42456879,  0.78542885, -1.75473454],\n",
              "       [ 1.09986601, -0.88640526, -0.56336851,  0.78542885,  1.6615628 ],\n",
              "       [ 1.11718674,  1.12815215,  0.80019859,  0.9388142 , -0.93948177],\n",
              "       [ 1.13450746, -0.88640526, -0.20453507,  0.9388142 ,  0.96277471],\n",
              "       [ 1.15182818,  1.12815215,  0.22606507,  0.97716054, -1.17241113],\n",
              "       [ 1.16914891, -0.88640526, -0.41983513,  0.97716054,  1.73920592],\n",
              "       [ 1.18646963, -0.88640526, -0.20453507,  1.01550688, -0.90066021],\n",
              "       [ 1.20379036,  1.12815215, -0.49160182,  1.01550688,  0.49691598],\n",
              "       [ 1.22111108,  1.12815215,  0.08253169,  1.01550688, -1.44416206],\n",
              "       [ 1.23843181,  1.12815215, -0.77866858,  1.01550688,  0.96277471],\n",
              "       [ 1.25575253,  1.12815215, -0.20453507,  1.01550688, -1.56062674],\n",
              "       [ 1.27307326,  1.12815215, -0.20453507,  1.01550688,  1.62274124],\n",
              "       [ 1.29039398, -0.88640526,  0.94373197,  1.05385321, -1.44416206],\n",
              "       [ 1.30771471, -0.88640526, -0.6351352 ,  1.05385321,  1.38981187],\n",
              "       [ 1.32503543,  1.12815215,  1.37433211,  1.05385321, -1.36651894],\n",
              "       [ 1.34235616,  1.12815215, -0.85043527,  1.05385321,  0.72984534],\n",
              "       [ 1.35967688,  1.12815215,  1.4460988 ,  1.2455849 , -1.4053405 ],\n",
              "       [ 1.3769976 ,  1.12815215, -0.27630176,  1.2455849 ,  1.54509812],\n",
              "       [ 1.39431833, -0.88640526, -0.13276838,  1.39897025, -0.7065524 ],\n",
              "       [ 1.41163905, -0.88640526, -0.49160182,  1.39897025,  1.38981187],\n",
              "       [ 1.42895978,  1.12815215,  0.51313183,  1.43731659, -1.36651894],\n",
              "       [ 1.4462805 , -0.88640526, -0.70690189,  1.43731659,  1.46745499],\n",
              "       [ 1.46360123, -0.88640526,  0.15429838,  1.47566292, -0.43480148],\n",
              "       [ 1.48092195,  1.12815215, -0.6351352 ,  1.47566292,  1.81684904],\n",
              "       [ 1.49824268, -0.88640526,  1.08726535,  1.5523556 , -1.01712489],\n",
              "       [ 1.5155634 ,  1.12815215, -0.77866858,  1.5523556 ,  0.69102378],\n",
              "       [ 1.53288413, -0.88640526,  0.15429838,  1.62904827, -1.28887582],\n",
              "       [ 1.55020485, -0.88640526, -0.20453507,  1.62904827,  1.35099031],\n",
              "       [ 1.56752558, -0.88640526, -0.34806844,  1.62904827, -1.05594645],\n",
              "       [ 1.5848463 , -0.88640526, -0.49160182,  1.62904827,  0.72984534],\n",
              "       [ 1.60216702,  1.12815215, -0.41983513,  2.01251165, -1.63826986],\n",
              "       [ 1.61948775, -0.88640526, -0.06100169,  2.01251165,  1.58391968],\n",
              "       [ 1.63680847, -0.88640526,  0.58489852,  2.28093601, -1.32769738],\n",
              "       [ 1.6541292 , -0.88640526, -0.27630176,  2.28093601,  1.11806095],\n",
              "       [ 1.67144992, -0.88640526,  0.44136514,  2.51101403, -0.86183865],\n",
              "       [ 1.68877065,  1.12815215, -0.49160182,  2.51101403,  0.92395314],\n",
              "       [ 1.70609137,  1.12815215, -0.49160182,  2.76985181, -1.25005425],\n",
              "       [ 1.7234121 ,  1.12815215, -0.6351352 ,  2.76985181,  1.27334719]])"
            ]
          },
          "metadata": {},
          "execution_count": 23
        }
      ]
    },
    {
      "cell_type": "markdown",
      "source": [
        "**9. Perform any of the clustering algorithms**"
      ],
      "metadata": {
        "id": "e7ieM0G_u4wB"
      }
    },
    {
      "cell_type": "code",
      "source": [
        "from sklearn.cluster import KMeans"
      ],
      "metadata": {
        "id": "0c64OW8ju61U"
      },
      "execution_count": null,
      "outputs": []
    },
    {
      "cell_type": "code",
      "source": [
        "data.drop('customer_id',axis=1,inplace=True)"
      ],
      "metadata": {
        "id": "Z8OKmsLHu-yf"
      },
      "execution_count": null,
      "outputs": []
    },
    {
      "cell_type": "code",
      "source": [
        "km = KMeans(n_clusters=3, random_state=0)"
      ],
      "metadata": {
        "id": "xpN07-HsvCNe"
      },
      "execution_count": null,
      "outputs": []
    },
    {
      "cell_type": "code",
      "source": [
        "data['Group or Cluster'] = km.fit_predict(data)"
      ],
      "metadata": {
        "id": "8t0nw7bZvGsK"
      },
      "execution_count": null,
      "outputs": []
    },
    {
      "cell_type": "code",
      "source": [
        "data.head()"
      ],
      "metadata": {
        "colab": {
          "base_uri": "https://localhost:8080/",
          "height": 206
        },
        "id": "nxmy9Qm4vM75",
        "outputId": "f2f3f6ad-b0e7-4b36-a971-3d6b1d47ba9c"
      },
      "execution_count": null,
      "outputs": [
        {
          "output_type": "execute_result",
          "data": {
            "text/plain": [
              "   gender   age  annual_income  spending_scores  Group or Cluster\n",
              "0       1  19.0           15.0             39.0                 2\n",
              "1       1  21.0           15.0             81.0                 2\n",
              "2       0  20.0           16.0              6.0                 2\n",
              "3       0  23.0           16.0             77.0                 2\n",
              "4       0  31.0           17.0             40.0                 2"
            ],
            "text/html": [
              "\n",
              "  <div id=\"df-19aee568-4660-4ebb-b0b3-3b9bb28ebcb6\">\n",
              "    <div class=\"colab-df-container\">\n",
              "      <div>\n",
              "<style scoped>\n",
              "    .dataframe tbody tr th:only-of-type {\n",
              "        vertical-align: middle;\n",
              "    }\n",
              "\n",
              "    .dataframe tbody tr th {\n",
              "        vertical-align: top;\n",
              "    }\n",
              "\n",
              "    .dataframe thead th {\n",
              "        text-align: right;\n",
              "    }\n",
              "</style>\n",
              "<table border=\"1\" class=\"dataframe\">\n",
              "  <thead>\n",
              "    <tr style=\"text-align: right;\">\n",
              "      <th></th>\n",
              "      <th>gender</th>\n",
              "      <th>age</th>\n",
              "      <th>annual_income</th>\n",
              "      <th>spending_scores</th>\n",
              "      <th>Group or Cluster</th>\n",
              "    </tr>\n",
              "  </thead>\n",
              "  <tbody>\n",
              "    <tr>\n",
              "      <th>0</th>\n",
              "      <td>1</td>\n",
              "      <td>19.0</td>\n",
              "      <td>15.0</td>\n",
              "      <td>39.0</td>\n",
              "      <td>2</td>\n",
              "    </tr>\n",
              "    <tr>\n",
              "      <th>1</th>\n",
              "      <td>1</td>\n",
              "      <td>21.0</td>\n",
              "      <td>15.0</td>\n",
              "      <td>81.0</td>\n",
              "      <td>2</td>\n",
              "    </tr>\n",
              "    <tr>\n",
              "      <th>2</th>\n",
              "      <td>0</td>\n",
              "      <td>20.0</td>\n",
              "      <td>16.0</td>\n",
              "      <td>6.0</td>\n",
              "      <td>2</td>\n",
              "    </tr>\n",
              "    <tr>\n",
              "      <th>3</th>\n",
              "      <td>0</td>\n",
              "      <td>23.0</td>\n",
              "      <td>16.0</td>\n",
              "      <td>77.0</td>\n",
              "      <td>2</td>\n",
              "    </tr>\n",
              "    <tr>\n",
              "      <th>4</th>\n",
              "      <td>0</td>\n",
              "      <td>31.0</td>\n",
              "      <td>17.0</td>\n",
              "      <td>40.0</td>\n",
              "      <td>2</td>\n",
              "    </tr>\n",
              "  </tbody>\n",
              "</table>\n",
              "</div>\n",
              "      <button class=\"colab-df-convert\" onclick=\"convertToInteractive('df-19aee568-4660-4ebb-b0b3-3b9bb28ebcb6')\"\n",
              "              title=\"Convert this dataframe to an interactive table.\"\n",
              "              style=\"display:none;\">\n",
              "        \n",
              "  <svg xmlns=\"http://www.w3.org/2000/svg\" height=\"24px\"viewBox=\"0 0 24 24\"\n",
              "       width=\"24px\">\n",
              "    <path d=\"M0 0h24v24H0V0z\" fill=\"none\"/>\n",
              "    <path d=\"M18.56 5.44l.94 2.06.94-2.06 2.06-.94-2.06-.94-.94-2.06-.94 2.06-2.06.94zm-11 1L8.5 8.5l.94-2.06 2.06-.94-2.06-.94L8.5 2.5l-.94 2.06-2.06.94zm10 10l.94 2.06.94-2.06 2.06-.94-2.06-.94-.94-2.06-.94 2.06-2.06.94z\"/><path d=\"M17.41 7.96l-1.37-1.37c-.4-.4-.92-.59-1.43-.59-.52 0-1.04.2-1.43.59L10.3 9.45l-7.72 7.72c-.78.78-.78 2.05 0 2.83L4 21.41c.39.39.9.59 1.41.59.51 0 1.02-.2 1.41-.59l7.78-7.78 2.81-2.81c.8-.78.8-2.07 0-2.86zM5.41 20L4 18.59l7.72-7.72 1.47 1.35L5.41 20z\"/>\n",
              "  </svg>\n",
              "      </button>\n",
              "      \n",
              "  <style>\n",
              "    .colab-df-container {\n",
              "      display:flex;\n",
              "      flex-wrap:wrap;\n",
              "      gap: 12px;\n",
              "    }\n",
              "\n",
              "    .colab-df-convert {\n",
              "      background-color: #E8F0FE;\n",
              "      border: none;\n",
              "      border-radius: 50%;\n",
              "      cursor: pointer;\n",
              "      display: none;\n",
              "      fill: #1967D2;\n",
              "      height: 32px;\n",
              "      padding: 0 0 0 0;\n",
              "      width: 32px;\n",
              "    }\n",
              "\n",
              "    .colab-df-convert:hover {\n",
              "      background-color: #E2EBFA;\n",
              "      box-shadow: 0px 1px 2px rgba(60, 64, 67, 0.3), 0px 1px 3px 1px rgba(60, 64, 67, 0.15);\n",
              "      fill: #174EA6;\n",
              "    }\n",
              "\n",
              "    [theme=dark] .colab-df-convert {\n",
              "      background-color: #3B4455;\n",
              "      fill: #D2E3FC;\n",
              "    }\n",
              "\n",
              "    [theme=dark] .colab-df-convert:hover {\n",
              "      background-color: #434B5C;\n",
              "      box-shadow: 0px 1px 3px 1px rgba(0, 0, 0, 0.15);\n",
              "      filter: drop-shadow(0px 1px 2px rgba(0, 0, 0, 0.3));\n",
              "      fill: #FFFFFF;\n",
              "    }\n",
              "  </style>\n",
              "\n",
              "      <script>\n",
              "        const buttonEl =\n",
              "          document.querySelector('#df-19aee568-4660-4ebb-b0b3-3b9bb28ebcb6 button.colab-df-convert');\n",
              "        buttonEl.style.display =\n",
              "          google.colab.kernel.accessAllowed ? 'block' : 'none';\n",
              "\n",
              "        async function convertToInteractive(key) {\n",
              "          const element = document.querySelector('#df-19aee568-4660-4ebb-b0b3-3b9bb28ebcb6');\n",
              "          const dataTable =\n",
              "            await google.colab.kernel.invokeFunction('convertToInteractive',\n",
              "                                                     [key], {});\n",
              "          if (!dataTable) return;\n",
              "\n",
              "          const docLinkHtml = 'Like what you see? Visit the ' +\n",
              "            '<a target=\"_blank\" href=https://colab.research.google.com/notebooks/data_table.ipynb>data table notebook</a>'\n",
              "            + ' to learn more about interactive tables.';\n",
              "          element.innerHTML = '';\n",
              "          dataTable['output_type'] = 'display_data';\n",
              "          await google.colab.output.renderOutput(dataTable, element);\n",
              "          const docLink = document.createElement('div');\n",
              "          docLink.innerHTML = docLinkHtml;\n",
              "          element.appendChild(docLink);\n",
              "        }\n",
              "      </script>\n",
              "    </div>\n",
              "  </div>\n",
              "  "
            ]
          },
          "metadata": {},
          "execution_count": 28
        }
      ]
    },
    {
      "cell_type": "code",
      "source": [
        "data['Group or Cluster'].value_counts()"
      ],
      "metadata": {
        "colab": {
          "base_uri": "https://localhost:8080/"
        },
        "id": "xOwmwtcvvTLF",
        "outputId": "2b29a2ce-c4a2-42c0-ccb0-e8997eaf626d"
      },
      "execution_count": null,
      "outputs": [
        {
          "output_type": "execute_result",
          "data": {
            "text/plain": [
              "2    123\n",
              "1     39\n",
              "0     38\n",
              "Name: Group or Cluster, dtype: int64"
            ]
          },
          "metadata": {},
          "execution_count": 29
        }
      ]
    },
    {
      "cell_type": "code",
      "source": [
        "import matplotlib.pyplot as plt\n",
        "\n",
        "fig,ax = plt.subplots(figsize=(15,8))\n",
        "sns.scatterplot(x=data['annual_income'],\n",
        "                y=data['spending_scores'],\n",
        "                hue=data['Group or Cluster'],\n",
        "                palette='PuBuGn')\n",
        "plt.show()"
      ],
      "metadata": {
        "colab": {
          "base_uri": "https://localhost:8080/",
          "height": 498
        },
        "id": "gvVwIDTuvU12",
        "outputId": "c60c553c-16fb-4835-efc6-38a2e6c3ae32"
      },
      "execution_count": null,
      "outputs": [
        {
          "output_type": "display_data",
          "data": {
            "text/plain": [
              "<Figure size 1080x576 with 1 Axes>"
            ],
            "image/png": "[encoded data removed]"
          },
          "metadata": {
            "needs_background": "light"
          }
        }
      ]
    },
    {
      "cell_type": "code",
      "source": [
        "from sklearn.metrics import silhouette_score, silhouette_samples\n",
        "score = silhouette_score(data, \n",
        "                         km.labels_, \n",
        "                         metric='euclidean')\n",
        "score"
      ],
      "metadata": {
        "colab": {
          "base_uri": "https://localhost:8080/"
        },
        "id": "k87sMc8mvb1V",
        "outputId": "d07db885-3a50-4a06-8d18-0b846b0c4161"
      },
      "execution_count": null,
      "outputs": [
        {
          "output_type": "execute_result",
          "data": {
            "text/plain": [
              "0.3842057644019546"
            ]
          },
          "metadata": {},
          "execution_count": 31
        }
      ]
    },
    {
      "cell_type": "code",
      "source": [
        "import matplotlib.pyplot as plt\n",
        "from yellowbrick.cluster import SilhouetteVisualizer\n",
        "\n",
        "fig, ax = plt.subplots(2, 2, figsize=(20,20))\n",
        "for i in [2, 3, 4, 5]:\n",
        "    '''\n",
        "    Create KMeans instance for different number of clusters\n",
        "    '''\n",
        "    km = KMeans(n_clusters=i, \n",
        "                init='k-means++', \n",
        "                n_init=10, \n",
        "                max_iter=100, \n",
        "                random_state=0)\n",
        "    q, mod = divmod(i, 2)\n",
        "    '''\n",
        "    Create SilhouetteVisualizer instance with KMeans instance\n",
        "    Fit the visualizer\n",
        "    '''\n",
        "    visualizer = SilhouetteVisualizer(km, \n",
        "                                      colors='yellowbrick', \n",
        "                                      ax=ax[q-1][mod])\n",
        "    visualizer.fit(data)"
      ],
      "metadata": {
        "colab": {
          "base_uri": "https://localhost:8080/",
          "height": 1000
        },
        "id": "0xK3W0UhvjHe",
        "outputId": "0a108ab8-f40d-4359-eb12-720021d35ded"
      },
      "execution_count": null,
      "outputs": [
        {
          "output_type": "display_data",
          "data": {
            "text/plain": [
              "<Figure size 1440x1440 with 4 Axes>"
            ],
            "image/png": "[encoded data removed]"
          },
          "metadata": {}
        }
      ]
    },
    {
      "cell_type": "markdown",
      "source": [
        "**11. Split the data into dependent and independent variables**"
      ],
      "metadata": {
        "id": "QsuKmnblv9vS"
      }
    },
    {
      "cell_type": "code",
      "source": [
        "x=data.iloc[:,:-1]\n",
        "x.head()"
      ],
      "metadata": {
        "colab": {
          "base_uri": "https://localhost:8080/",
          "height": 206
        },
        "id": "k-WXqQ99wAib",
        "outputId": "053c2389-bece-4361-c8c5-ae03c6a89fcc"
      },
      "execution_count": null,
      "outputs": [
        {
          "output_type": "execute_result",
          "data": {
            "text/plain": [
              "   gender   age  annual_income  spending_scores\n",
              "0       1  19.0           15.0             39.0\n",
              "1       1  21.0           15.0             81.0\n",
              "2       0  20.0           16.0              6.0\n",
              "3       0  23.0           16.0             77.0\n",
              "4       0  31.0           17.0             40.0"
            ],
            "text/html": [
              "\n",
              "  <div id=\"df-85be0280-e737-464d-9709-e66ce20814ee\">\n",
              "    <div class=\"colab-df-container\">\n",
              "      <div>\n",
              "<style scoped>\n",
              "    .dataframe tbody tr th:only-of-type {\n",
              "        vertical-align: middle;\n",
              "    }\n",
              "\n",
              "    .dataframe tbody tr th {\n",
              "        vertical-align: top;\n",
              "    }\n",
              "\n",
              "    .dataframe thead th {\n",
              "        text-align: right;\n",
              "    }\n",
              "</style>\n",
              "<table border=\"1\" class=\"dataframe\">\n",
              "  <thead>\n",
              "    <tr style=\"text-align: right;\">\n",
              "      <th></th>\n",
              "      <th>gender</th>\n",
              "      <th>age</th>\n",
              "      <th>annual_income</th>\n",
              "      <th>spending_scores</th>\n",
              "    </tr>\n",
              "  </thead>\n",
              "  <tbody>\n",
              "    <tr>\n",
              "      <th>0</th>\n",
              "      <td>1</td>\n",
              "      <td>19.0</td>\n",
              "      <td>15.0</td>\n",
              "      <td>39.0</td>\n",
              "    </tr>\n",
              "    <tr>\n",
              "      <th>1</th>\n",
              "      <td>1</td>\n",
              "      <td>21.0</td>\n",
              "      <td>15.0</td>\n",
              "      <td>81.0</td>\n",
              "    </tr>\n",
              "    <tr>\n",
              "      <th>2</th>\n",
              "      <td>0</td>\n",
              "      <td>20.0</td>\n",
              "      <td>16.0</td>\n",
              "      <td>6.0</td>\n",
              "    </tr>\n",
              "    <tr>\n",
              "      <th>3</th>\n",
              "      <td>0</td>\n",
              "      <td>23.0</td>\n",
              "      <td>16.0</td>\n",
              "      <td>77.0</td>\n",
              "    </tr>\n",
              "    <tr>\n",
              "      <th>4</th>\n",
              "      <td>0</td>\n",
              "      <td>31.0</td>\n",
              "      <td>17.0</td>\n",
              "      <td>40.0</td>\n",
              "    </tr>\n",
              "  </tbody>\n",
              "</table>\n",
              "</div>\n",
              "      <button class=\"colab-df-convert\" onclick=\"convertToInteractive('df-85be0280-e737-464d-9709-e66ce20814ee')\"\n",
              "              title=\"Convert this dataframe to an interactive table.\"\n",
              "              style=\"display:none;\">\n",
              "        \n",
              "  <svg xmlns=\"http://www.w3.org/2000/svg\" height=\"24px\"viewBox=\"0 0 24 24\"\n",
              "       width=\"24px\">\n",
              "    <path d=\"M0 0h24v24H0V0z\" fill=\"none\"/>\n",
              "    <path d=\"M18.56 5.44l.94 2.06.94-2.06 2.06-.94-2.06-.94-.94-2.06-.94 2.06-2.06.94zm-11 1L8.5 8.5l.94-2.06 2.06-.94-2.06-.94L8.5 2.5l-.94 2.06-2.06.94zm10 10l.94 2.06.94-2.06 2.06-.94-2.06-.94-.94-2.06-.94 2.06-2.06.94z\"/><path d=\"M17.41 7.96l-1.37-1.37c-.4-.4-.92-.59-1.43-.59-.52 0-1.04.2-1.43.59L10.3 9.45l-7.72 7.72c-.78.78-.78 2.05 0 2.83L4 21.41c.39.39.9.59 1.41.59.51 0 1.02-.2 1.41-.59l7.78-7.78 2.81-2.81c.8-.78.8-2.07 0-2.86zM5.41 20L4 18.59l7.72-7.72 1.47 1.35L5.41 20z\"/>\n",
              "  </svg>\n",
              "      </button>\n",
              "      \n",
              "  <style>\n",
              "    .colab-df-container {\n",
              "      display:flex;\n",
              "      flex-wrap:wrap;\n",
              "      gap: 12px;\n",
              "    }\n",
              "\n",
              "    .colab-df-convert {\n",
              "      background-color: #E8F0FE;\n",
              "      border: none;\n",
              "      border-radius: 50%;\n",
              "      cursor: pointer;\n",
              "      display: none;\n",
              "      fill: #1967D2;\n",
              "      height: 32px;\n",
              "      padding: 0 0 0 0;\n",
              "      width: 32px;\n",
              "    }\n",
              "\n",
              "    .colab-df-convert:hover {\n",
              "      background-color: #E2EBFA;\n",
              "      box-shadow: 0px 1px 2px rgba(60, 64, 67, 0.3), 0px 1px 3px 1px rgba(60, 64, 67, 0.15);\n",
              "      fill: #174EA6;\n",
              "    }\n",
              "\n",
              "    [theme=dark] .colab-df-convert {\n",
              "      background-color: #3B4455;\n",
              "      fill: #D2E3FC;\n",
              "    }\n",
              "\n",
              "    [theme=dark] .colab-df-convert:hover {\n",
              "      background-color: #434B5C;\n",
              "      box-shadow: 0px 1px 3px 1px rgba(0, 0, 0, 0.15);\n",
              "      filter: drop-shadow(0px 1px 2px rgba(0, 0, 0, 0.3));\n",
              "      fill: #FFFFFF;\n",
              "    }\n",
              "  </style>\n",
              "\n",
              "      <script>\n",
              "        const buttonEl =\n",
              "          document.querySelector('#df-85be0280-e737-464d-9709-e66ce20814ee button.colab-df-convert');\n",
              "        buttonEl.style.display =\n",
              "          google.colab.kernel.accessAllowed ? 'block' : 'none';\n",
              "\n",
              "        async function convertToInteractive(key) {\n",
              "          const element = document.querySelector('#df-85be0280-e737-464d-9709-e66ce20814ee');\n",
              "          const dataTable =\n",
              "            await google.colab.kernel.invokeFunction('convertToInteractive',\n",
              "                                                     [key], {});\n",
              "          if (!dataTable) return;\n",
              "\n",
              "          const docLinkHtml = 'Like what you see? Visit the ' +\n",
              "            '<a target=\"_blank\" href=https://colab.research.google.com/notebooks/data_table.ipynb>data table notebook</a>'\n",
              "            + ' to learn more about interactive tables.';\n",
              "          element.innerHTML = '';\n",
              "          dataTable['output_type'] = 'display_data';\n",
              "          await google.colab.output.renderOutput(dataTable, element);\n",
              "          const docLink = document.createElement('div');\n",
              "          docLink.innerHTML = docLinkHtml;\n",
              "          element.appendChild(docLink);\n",
              "        }\n",
              "      </script>\n",
              "    </div>\n",
              "  </div>\n",
              "  "
            ]
          },
          "metadata": {},
          "execution_count": 33
        }
      ]
    },
    {
      "cell_type": "code",
      "source": [
        "y=data.iloc[:,-1]\n",
        "y.head()"
      ],
      "metadata": {
        "colab": {
          "base_uri": "https://localhost:8080/"
        },
        "id": "LTGx-1I3wILM",
        "outputId": "65e0f8ec-ddbc-49cb-9983-13b2f8119734"
      },
      "execution_count": null,
      "outputs": [
        {
          "output_type": "execute_result",
          "data": {
            "text/plain": [
              "0    2\n",
              "1    2\n",
              "2    2\n",
              "3    2\n",
              "4    2\n",
              "Name: Group or Cluster, dtype: int32"
            ]
          },
          "metadata": {},
          "execution_count": 34
        }
      ]
    },
    {
      "cell_type": "markdown",
      "source": [
        "**12. Split the data into training and testing**"
      ],
      "metadata": {
        "id": "Uph6m_DHwNa2"
      }
    },
    {
      "cell_type": "code",
      "source": [
        "from sklearn.model_selection import train_test_split\n",
        "x_train,x_test,y_train,y_test=train_test_split(x,y,test_size=0.33)"
      ],
      "metadata": {
        "id": "PvDBuGJYwQjl"
      },
      "execution_count": null,
      "outputs": []
    },
    {
      "cell_type": "code",
      "source": [
        "x_train.shape"
      ],
      "metadata": {
        "colab": {
          "base_uri": "https://localhost:8080/"
        },
        "id": "NPn_xNCbwXGi",
        "outputId": "67d4bb8e-4a18-4def-c9e5-d26cad393a80"
      },
      "execution_count": null,
      "outputs": [
        {
          "output_type": "execute_result",
          "data": {
            "text/plain": [
              "(134, 4)"
            ]
          },
          "metadata": {},
          "execution_count": 36
        }
      ]
    },
    {
      "cell_type": "code",
      "source": [
        "x_test.shape"
      ],
      "metadata": {
        "colab": {
          "base_uri": "https://localhost:8080/"
        },
        "id": "ViSHarcZwbJa",
        "outputId": "9f9ad541-7604-43f5-9fc7-22ae88a61a2c"
      },
      "execution_count": null,
      "outputs": [
        {
          "output_type": "execute_result",
          "data": {
            "text/plain": [
              "(66, 4)"
            ]
          },
          "metadata": {},
          "execution_count": 37
        }
      ]
    },
    {
      "cell_type": "code",
      "source": [
        "y_train.shape"
      ],
      "metadata": {
        "colab": {
          "base_uri": "https://localhost:8080/"
        },
        "id": "d905XE9vwgNj",
        "outputId": "a1c94c85-04f9-4b50-f52a-c920836f828d"
      },
      "execution_count": null,
      "outputs": [
        {
          "output_type": "execute_result",
          "data": {
            "text/plain": [
              "(134,)"
            ]
          },
          "metadata": {},
          "execution_count": 38
        }
      ]
    },
    {
      "cell_type": "code",
      "source": [
        "y_test.shape"
      ],
      "metadata": {
        "colab": {
          "base_uri": "https://localhost:8080/"
        },
        "id": "uV6RvG9Zwk7a",
        "outputId": "3f59b2b6-0d02-48a7-8b36-c4f3a553ad74"
      },
      "execution_count": null,
      "outputs": [
        {
          "output_type": "execute_result",
          "data": {
            "text/plain": [
              "(66,)"
            ]
          },
          "metadata": {},
          "execution_count": 39
        }
      ]
    },
    {
      "cell_type": "markdown",
      "source": [
        "**13. Build the Model**"
      ],
      "metadata": {
        "id": "s0NZALKUwpz3"
      }
    },
    {
      "cell_type": "code",
      "source": [
        "from sklearn.linear_model import LogisticRegression\n",
        "lgr = LogisticRegression()\n",
        "lgr.fit(x_train,y_train)"
      ],
      "metadata": {
        "colab": {
          "base_uri": "https://localhost:8080/"
        },
        "id": "Oxp0tf_XzVnv",
        "outputId": "ec10f538-7cb5-4d61-9df9-6fa05c0f1772"
      },
      "execution_count": null,
      "outputs": [
        {
          "output_type": "stream",
          "name": "stderr",
          "text": [
            "/usr/local/lib/python3.7/dist-packages/sklearn/linear_model/_logistic.py:818: ConvergenceWarning: lbfgs failed to converge (status=1):\n",
            "STOP: TOTAL NO. of ITERATIONS REACHED LIMIT.\n",
            "\n",
            "Increase the number of iterations (max_iter) or scale the data as shown in:\n",
            "    https://scikit-learn.org/stable/modules/preprocessing.html\n",
            "Please also refer to the documentation for alternative solver options:\n",
            "    https://scikit-learn.org/stable/modules/linear_model.html#logistic-regression\n",
            "  extra_warning_msg=_LOGISTIC_SOLVER_CONVERGENCE_MSG,\n"
          ]
        },
        {
          "output_type": "execute_result",
          "data": {
            "text/plain": [
              "LogisticRegression()"
            ]
          },
          "metadata": {},
          "execution_count": 49
        }
      ]
    },
    {
      "cell_type": "markdown",
      "source": [
        "**15. Test the Model**"
      ],
      "metadata": {
        "id": "6eknfVzfw19g"
      }
    },
    {
      "cell_type": "code",
      "source": [
        "y_pred = lgr.predict(x_test)\n",
        "print(y_pred)"
      ],
      "metadata": {
        "colab": {
          "base_uri": "https://localhost:8080/"
        },
        "id": "TI14KBP8w3vI",
        "outputId": "0892b2b3-b6c1-4cbe-835a-5ea70ed40083"
      },
      "execution_count": null,
      "outputs": [
        {
          "output_type": "stream",
          "name": "stdout",
          "text": [
            "[0 2 2 2 2 2 1 2 2 0 2 2 2 2 0 2 1 0 1 2 0 2 2 0 2 1 1 2 1 2 2 2 1 2 2 2 2\n",
            " 0 2 0 2 2 2 2 2 2 2 2 2 1 2 2 1 2 2 2 2 0 2 0 1 0 1 0 1 0]\n"
          ]
        }
      ]
    },
    {
      "cell_type": "markdown",
      "source": [
        "**16. Measure the performance using Evaluation Metrics**"
      ],
      "metadata": {
        "id": "dKl1cNPfw_ko"
      }
    },
    {
      "cell_type": "code",
      "source": [
        "from sklearn.metrics import accuracy_score\n",
        "score = accuracy_score(y_test,y_pred)\n",
        "print(score)\n"
      ],
      "metadata": {
        "colab": {
          "base_uri": "https://localhost:8080/"
        },
        "id": "TcuxpCMSxBTj",
        "outputId": "3d9cf5cd-8d78-4e61-9928-59124fa84a96"
      },
      "execution_count": null,
      "outputs": [
        {
          "output_type": "stream",
          "name": "stdout",
          "text": [
            "1.0\n"
          ]
        }
      ]
    }
  ]
}